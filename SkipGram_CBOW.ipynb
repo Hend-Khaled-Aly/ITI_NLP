{
 "cells": [
  {
   "cell_type": "code",
   "execution_count": 1,
   "id": "c629d88b",
   "metadata": {},
   "outputs": [
    {
     "name": "stdout",
     "output_type": "stream",
     "text": [
      "Requirement already satisfied: gensim in c:\\users\\hend-pc\\anaconda3\\lib\\site-packages (4.3.3)\n",
      "Requirement already satisfied: numpy<2.0,>=1.18.5 in c:\\users\\hend-pc\\anaconda3\\lib\\site-packages (from gensim) (1.26.4)\n",
      "Requirement already satisfied: scipy<1.14.0,>=1.7.0 in c:\\users\\hend-pc\\anaconda3\\lib\\site-packages (from gensim) (1.13.1)\n",
      "Requirement already satisfied: smart-open>=1.8.1 in c:\\users\\hend-pc\\anaconda3\\lib\\site-packages (from gensim) (5.2.1)\n",
      "Note: you may need to restart the kernel to use updated packages.\n"
     ]
    },
    {
     "name": "stderr",
     "output_type": "stream",
     "text": [
      "WARNING: Ignoring invalid distribution ~ensorboard (c:\\Users\\Hend-PC\\anaconda3\\Lib\\site-packages)\n",
      "WARNING: Ignoring invalid distribution ~ensorboard (c:\\Users\\Hend-PC\\anaconda3\\Lib\\site-packages)\n",
      "WARNING: Ignoring invalid distribution ~ensorboard (c:\\Users\\Hend-PC\\anaconda3\\Lib\\site-packages)\n"
     ]
    }
   ],
   "source": [
    "%pip install gensim"
   ]
  },
  {
   "cell_type": "code",
   "execution_count": 6,
   "id": "b94ff552",
   "metadata": {},
   "outputs": [],
   "source": [
    "from gensim.models import KeyedVectors\n",
    "import gensim.downloader as api"
   ]
  },
  {
   "cell_type": "code",
   "execution_count": 7,
   "id": "d67c68e8",
   "metadata": {},
   "outputs": [
    {
     "data": {
      "text/plain": [
       "dict_keys(['fasttext-wiki-news-subwords-300', 'conceptnet-numberbatch-17-06-300', 'word2vec-ruscorpora-300', 'word2vec-google-news-300', 'glove-wiki-gigaword-50', 'glove-wiki-gigaword-100', 'glove-wiki-gigaword-200', 'glove-wiki-gigaword-300', 'glove-twitter-25', 'glove-twitter-50', 'glove-twitter-100', 'glove-twitter-200', '__testing_word2vec-matrix-synopsis'])"
      ]
     },
     "execution_count": 7,
     "metadata": {},
     "output_type": "execute_result"
    }
   ],
   "source": [
    "api.info()['models'].keys()"
   ]
  },
  {
   "cell_type": "code",
   "execution_count": 8,
   "id": "501aa06f",
   "metadata": {},
   "outputs": [],
   "source": [
    "model = api.load(\"glove-wiki-gigaword-100\")"
   ]
  },
  {
   "cell_type": "code",
   "execution_count": 10,
   "id": "95badee5",
   "metadata": {},
   "outputs": [
    {
     "data": {
      "text/plain": [
       "[('girl', 0.8472671508789062),\n",
       " ('man', 0.832349419593811),\n",
       " ('mother', 0.827568769454956),\n",
       " ('boy', 0.7720510363578796),\n",
       " ('she', 0.7632068395614624),\n",
       " ('child', 0.7601762413978577),\n",
       " ('wife', 0.7505022883415222),\n",
       " ('her', 0.7445706129074097),\n",
       " ('herself', 0.7426273822784424),\n",
       " ('daughter', 0.726445734500885)]"
      ]
     },
     "execution_count": 10,
     "metadata": {},
     "output_type": "execute_result"
    }
   ],
   "source": [
    "model.most_similar('woman')"
   ]
  },
  {
   "cell_type": "code",
   "execution_count": 14,
   "id": "4b2b5e26",
   "metadata": {},
   "outputs": [
    {
     "name": "stdout",
     "output_type": "stream",
     "text": [
      "queen: 0.7699\n"
     ]
    }
   ],
   "source": [
    "result = model.most_similar(positive=['woman', 'king'], negative=['man'])\n",
    "print(\"{}: {:.4f}\".format(*result[0]))"
   ]
  },
  {
   "cell_type": "code",
   "execution_count": 9,
   "id": "ba320ce8",
   "metadata": {},
   "outputs": [],
   "source": [
    "import numpy as np"
   ]
  },
  {
   "cell_type": "code",
   "execution_count": 11,
   "id": "6f7c3537",
   "metadata": {},
   "outputs": [],
   "source": [
    "def cbow_predict(context_words, embedding_model, window=2):\n",
    "    valid_embeddings = [embedding_model[word] for word in context_words if word in embedding_model]\n",
    "    if not valid_embeddings:\n",
    "        return None\n",
    "    average_vector = np.mean(valid_embeddings, axis=0)\n",
    "    most_similar = embedding_model.similar_by_vector(average_vector, topn=1)\n",
    "    return most_similar"
   ]
  },
  {
   "cell_type": "code",
   "execution_count": 13,
   "id": "38bdd34f",
   "metadata": {},
   "outputs": [
    {
     "name": "stdout",
     "output_type": "stream",
     "text": [
      "Predicted word: paris \n",
      " with similarity score: 0.8881196975708008\n"
     ]
    }
   ],
   "source": [
    "context = [\"paris\", \"france\", \"capital\"]\n",
    "result = cbow_predict(context, model)\n",
    "print(\"Predicted word:\", result[0][0], \"\\n with similarity score:\", result[0][1])"
   ]
  },
  {
   "cell_type": "code",
   "execution_count": 15,
   "id": "7af85e74",
   "metadata": {},
   "outputs": [
    {
     "name": "stdout",
     "output_type": "stream",
     "text": [
      "[('smart', 0.9080583453178406)]\n"
     ]
    }
   ],
   "source": [
    "context = [\"intelligent\", \"smart\", \"clever\"]\n",
    "print(cbow_predict(context, model))"
   ]
  },
  {
   "cell_type": "code",
   "execution_count": 16,
   "id": "7fe3f8e6",
   "metadata": {},
   "outputs": [
    {
     "name": "stdout",
     "output_type": "stream",
     "text": [
      "[('man', 0.8509408831596375)]\n"
     ]
    }
   ],
   "source": [
    "context = [\"man\", \"king\", \"male\"]\n",
    "print(cbow_predict(context, model))"
   ]
  },
  {
   "cell_type": "code",
   "execution_count": 17,
   "id": "20089303",
   "metadata": {},
   "outputs": [],
   "source": [
    "def skip_gram_context(center_word, embedding_model, topn=6):\n",
    "    if center_word not in embedding_model:\n",
    "        return f\"'{center_word}' not found in the vocabulary.\"\n",
    "    return embedding_model.most_similar(center_word, topn=topn)\n"
   ]
  },
  {
   "cell_type": "code",
   "execution_count": 18,
   "id": "13647bcc",
   "metadata": {},
   "outputs": [
    {
     "name": "stdout",
     "output_type": "stream",
     "text": [
      "Skip-Gram-style prediction (context words):\n",
      "[('laptops', 0.8518659472465515), ('computers', 0.7559927105903625), ('phones', 0.7229112386703491), ('portable', 0.7157840728759766), ('desktop', 0.7085692286491394), ('ipod', 0.7049806714057922)]\n"
     ]
    }
   ],
   "source": [
    "center = \"laptop\"\n",
    "print(\"Skip-Gram-style prediction (context words):\")\n",
    "print(skip_gram_context(center, model))\n"
   ]
  },
  {
   "cell_type": "code",
   "execution_count": 19,
   "id": "e14672f1",
   "metadata": {},
   "outputs": [
    {
     "name": "stdout",
     "output_type": "stream",
     "text": [
      "Skip-Gram-style prediction (context words):\n",
      "[('microsoft', 0.7449405193328857), ('ibm', 0.6821643114089966), ('intel', 0.6778088212013245), ('software', 0.6775422692298889), ('dell', 0.6741442680358887), ('pc', 0.6678153276443481)]\n"
     ]
    }
   ],
   "source": [
    "center = \"apple\"\n",
    "print(\"Skip-Gram-style prediction (context words):\")\n",
    "print(skip_gram_context(center, model))\n"
   ]
  },
  {
   "cell_type": "code",
   "execution_count": null,
   "id": "dbc04418",
   "metadata": {},
   "outputs": [],
   "source": []
  }
 ],
 "metadata": {
  "kernelspec": {
   "display_name": "base",
   "language": "python",
   "name": "python3"
  },
  "language_info": {
   "codemirror_mode": {
    "name": "ipython",
    "version": 3
   },
   "file_extension": ".py",
   "mimetype": "text/x-python",
   "name": "python",
   "nbconvert_exporter": "python",
   "pygments_lexer": "ipython3",
   "version": "3.12.7"
  }
 },
 "nbformat": 4,
 "nbformat_minor": 5
}
