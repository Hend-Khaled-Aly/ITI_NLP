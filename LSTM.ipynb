{
  "nbformat": 4,
  "nbformat_minor": 0,
  "metadata": {
    "colab": {
      "provenance": [],
      "gpuType": "T4",
      "authorship_tag": "ABX9TyMTzMB0hlm/LLaiQNsLcIVN",
      "include_colab_link": true
    },
    "kernelspec": {
      "name": "python3",
      "display_name": "Python 3"
    },
    "language_info": {
      "name": "python"
    },
    "accelerator": "GPU",
    "widgets": {
      "application/vnd.jupyter.widget-state+json": {
        "40126430caf141079f407210f1e548e9": {
          "model_module": "@jupyter-widgets/controls",
          "model_name": "HBoxModel",
          "model_module_version": "1.5.0",
          "state": {
            "_dom_classes": [],
            "_model_module": "@jupyter-widgets/controls",
            "_model_module_version": "1.5.0",
            "_model_name": "HBoxModel",
            "_view_count": null,
            "_view_module": "@jupyter-widgets/controls",
            "_view_module_version": "1.5.0",
            "_view_name": "HBoxView",
            "box_style": "",
            "children": [
              "IPY_MODEL_28f25ca204f74f838469e30d0cbe926e",
              "IPY_MODEL_202dbee416e54741894313279c4f7314",
              "IPY_MODEL_0bd5bf76c0c64c6da426cdcaebfaf023"
            ],
            "layout": "IPY_MODEL_74b67e8ffc1c4f22b7ddcb7bec4aaedc"
          }
        },
        "28f25ca204f74f838469e30d0cbe926e": {
          "model_module": "@jupyter-widgets/controls",
          "model_name": "HTMLModel",
          "model_module_version": "1.5.0",
          "state": {
            "_dom_classes": [],
            "_model_module": "@jupyter-widgets/controls",
            "_model_module_version": "1.5.0",
            "_model_name": "HTMLModel",
            "_view_count": null,
            "_view_module": "@jupyter-widgets/controls",
            "_view_module_version": "1.5.0",
            "_view_name": "HTMLView",
            "description": "",
            "description_tooltip": null,
            "layout": "IPY_MODEL_ade08803fac042048d8da1899598873c",
            "placeholder": "​",
            "style": "IPY_MODEL_da0169afc43743c4bde8b7ca799122c2",
            "value": "README.md: 100%"
          }
        },
        "202dbee416e54741894313279c4f7314": {
          "model_module": "@jupyter-widgets/controls",
          "model_name": "FloatProgressModel",
          "model_module_version": "1.5.0",
          "state": {
            "_dom_classes": [],
            "_model_module": "@jupyter-widgets/controls",
            "_model_module_version": "1.5.0",
            "_model_name": "FloatProgressModel",
            "_view_count": null,
            "_view_module": "@jupyter-widgets/controls",
            "_view_module_version": "1.5.0",
            "_view_name": "ProgressView",
            "bar_style": "success",
            "description": "",
            "description_tooltip": null,
            "layout": "IPY_MODEL_fcf6ed10b4a44610aa67240075ad3463",
            "max": 7809,
            "min": 0,
            "orientation": "horizontal",
            "style": "IPY_MODEL_c7a3d8f51d184b34ac71cea3dcd2542f",
            "value": 7809
          }
        },
        "0bd5bf76c0c64c6da426cdcaebfaf023": {
          "model_module": "@jupyter-widgets/controls",
          "model_name": "HTMLModel",
          "model_module_version": "1.5.0",
          "state": {
            "_dom_classes": [],
            "_model_module": "@jupyter-widgets/controls",
            "_model_module_version": "1.5.0",
            "_model_name": "HTMLModel",
            "_view_count": null,
            "_view_module": "@jupyter-widgets/controls",
            "_view_module_version": "1.5.0",
            "_view_name": "HTMLView",
            "description": "",
            "description_tooltip": null,
            "layout": "IPY_MODEL_37061b400b2d44e6b0cc055b2ef90c6f",
            "placeholder": "​",
            "style": "IPY_MODEL_f95006361cbc44b1bfbc933073cf7c00",
            "value": " 7.81k/7.81k [00:00&lt;00:00, 317kB/s]"
          }
        },
        "74b67e8ffc1c4f22b7ddcb7bec4aaedc": {
          "model_module": "@jupyter-widgets/base",
          "model_name": "LayoutModel",
          "model_module_version": "1.2.0",
          "state": {
            "_model_module": "@jupyter-widgets/base",
            "_model_module_version": "1.2.0",
            "_model_name": "LayoutModel",
            "_view_count": null,
            "_view_module": "@jupyter-widgets/base",
            "_view_module_version": "1.2.0",
            "_view_name": "LayoutView",
            "align_content": null,
            "align_items": null,
            "align_self": null,
            "border": null,
            "bottom": null,
            "display": null,
            "flex": null,
            "flex_flow": null,
            "grid_area": null,
            "grid_auto_columns": null,
            "grid_auto_flow": null,
            "grid_auto_rows": null,
            "grid_column": null,
            "grid_gap": null,
            "grid_row": null,
            "grid_template_areas": null,
            "grid_template_columns": null,
            "grid_template_rows": null,
            "height": null,
            "justify_content": null,
            "justify_items": null,
            "left": null,
            "margin": null,
            "max_height": null,
            "max_width": null,
            "min_height": null,
            "min_width": null,
            "object_fit": null,
            "object_position": null,
            "order": null,
            "overflow": null,
            "overflow_x": null,
            "overflow_y": null,
            "padding": null,
            "right": null,
            "top": null,
            "visibility": null,
            "width": null
          }
        },
        "ade08803fac042048d8da1899598873c": {
          "model_module": "@jupyter-widgets/base",
          "model_name": "LayoutModel",
          "model_module_version": "1.2.0",
          "state": {
            "_model_module": "@jupyter-widgets/base",
            "_model_module_version": "1.2.0",
            "_model_name": "LayoutModel",
            "_view_count": null,
            "_view_module": "@jupyter-widgets/base",
            "_view_module_version": "1.2.0",
            "_view_name": "LayoutView",
            "align_content": null,
            "align_items": null,
            "align_self": null,
            "border": null,
            "bottom": null,
            "display": null,
            "flex": null,
            "flex_flow": null,
            "grid_area": null,
            "grid_auto_columns": null,
            "grid_auto_flow": null,
            "grid_auto_rows": null,
            "grid_column": null,
            "grid_gap": null,
            "grid_row": null,
            "grid_template_areas": null,
            "grid_template_columns": null,
            "grid_template_rows": null,
            "height": null,
            "justify_content": null,
            "justify_items": null,
            "left": null,
            "margin": null,
            "max_height": null,
            "max_width": null,
            "min_height": null,
            "min_width": null,
            "object_fit": null,
            "object_position": null,
            "order": null,
            "overflow": null,
            "overflow_x": null,
            "overflow_y": null,
            "padding": null,
            "right": null,
            "top": null,
            "visibility": null,
            "width": null
          }
        },
        "da0169afc43743c4bde8b7ca799122c2": {
          "model_module": "@jupyter-widgets/controls",
          "model_name": "DescriptionStyleModel",
          "model_module_version": "1.5.0",
          "state": {
            "_model_module": "@jupyter-widgets/controls",
            "_model_module_version": "1.5.0",
            "_model_name": "DescriptionStyleModel",
            "_view_count": null,
            "_view_module": "@jupyter-widgets/base",
            "_view_module_version": "1.2.0",
            "_view_name": "StyleView",
            "description_width": ""
          }
        },
        "fcf6ed10b4a44610aa67240075ad3463": {
          "model_module": "@jupyter-widgets/base",
          "model_name": "LayoutModel",
          "model_module_version": "1.2.0",
          "state": {
            "_model_module": "@jupyter-widgets/base",
            "_model_module_version": "1.2.0",
            "_model_name": "LayoutModel",
            "_view_count": null,
            "_view_module": "@jupyter-widgets/base",
            "_view_module_version": "1.2.0",
            "_view_name": "LayoutView",
            "align_content": null,
            "align_items": null,
            "align_self": null,
            "border": null,
            "bottom": null,
            "display": null,
            "flex": null,
            "flex_flow": null,
            "grid_area": null,
            "grid_auto_columns": null,
            "grid_auto_flow": null,
            "grid_auto_rows": null,
            "grid_column": null,
            "grid_gap": null,
            "grid_row": null,
            "grid_template_areas": null,
            "grid_template_columns": null,
            "grid_template_rows": null,
            "height": null,
            "justify_content": null,
            "justify_items": null,
            "left": null,
            "margin": null,
            "max_height": null,
            "max_width": null,
            "min_height": null,
            "min_width": null,
            "object_fit": null,
            "object_position": null,
            "order": null,
            "overflow": null,
            "overflow_x": null,
            "overflow_y": null,
            "padding": null,
            "right": null,
            "top": null,
            "visibility": null,
            "width": null
          }
        },
        "c7a3d8f51d184b34ac71cea3dcd2542f": {
          "model_module": "@jupyter-widgets/controls",
          "model_name": "ProgressStyleModel",
          "model_module_version": "1.5.0",
          "state": {
            "_model_module": "@jupyter-widgets/controls",
            "_model_module_version": "1.5.0",
            "_model_name": "ProgressStyleModel",
            "_view_count": null,
            "_view_module": "@jupyter-widgets/base",
            "_view_module_version": "1.2.0",
            "_view_name": "StyleView",
            "bar_color": null,
            "description_width": ""
          }
        },
        "37061b400b2d44e6b0cc055b2ef90c6f": {
          "model_module": "@jupyter-widgets/base",
          "model_name": "LayoutModel",
          "model_module_version": "1.2.0",
          "state": {
            "_model_module": "@jupyter-widgets/base",
            "_model_module_version": "1.2.0",
            "_model_name": "LayoutModel",
            "_view_count": null,
            "_view_module": "@jupyter-widgets/base",
            "_view_module_version": "1.2.0",
            "_view_name": "LayoutView",
            "align_content": null,
            "align_items": null,
            "align_self": null,
            "border": null,
            "bottom": null,
            "display": null,
            "flex": null,
            "flex_flow": null,
            "grid_area": null,
            "grid_auto_columns": null,
            "grid_auto_flow": null,
            "grid_auto_rows": null,
            "grid_column": null,
            "grid_gap": null,
            "grid_row": null,
            "grid_template_areas": null,
            "grid_template_columns": null,
            "grid_template_rows": null,
            "height": null,
            "justify_content": null,
            "justify_items": null,
            "left": null,
            "margin": null,
            "max_height": null,
            "max_width": null,
            "min_height": null,
            "min_width": null,
            "object_fit": null,
            "object_position": null,
            "order": null,
            "overflow": null,
            "overflow_x": null,
            "overflow_y": null,
            "padding": null,
            "right": null,
            "top": null,
            "visibility": null,
            "width": null
          }
        },
        "f95006361cbc44b1bfbc933073cf7c00": {
          "model_module": "@jupyter-widgets/controls",
          "model_name": "DescriptionStyleModel",
          "model_module_version": "1.5.0",
          "state": {
            "_model_module": "@jupyter-widgets/controls",
            "_model_module_version": "1.5.0",
            "_model_name": "DescriptionStyleModel",
            "_view_count": null,
            "_view_module": "@jupyter-widgets/base",
            "_view_module_version": "1.2.0",
            "_view_name": "StyleView",
            "description_width": ""
          }
        },
        "c340872f30fc4faab1bd13602aded081": {
          "model_module": "@jupyter-widgets/controls",
          "model_name": "HBoxModel",
          "model_module_version": "1.5.0",
          "state": {
            "_dom_classes": [],
            "_model_module": "@jupyter-widgets/controls",
            "_model_module_version": "1.5.0",
            "_model_name": "HBoxModel",
            "_view_count": null,
            "_view_module": "@jupyter-widgets/controls",
            "_view_module_version": "1.5.0",
            "_view_name": "HBoxView",
            "box_style": "",
            "children": [
              "IPY_MODEL_31c5d7cc88584b4fabb6436735758d34",
              "IPY_MODEL_828e1454fd434b358e2870d76d8f2d21",
              "IPY_MODEL_6e30912c2fe04bfdb805b4a3dae821b0"
            ],
            "layout": "IPY_MODEL_a7e8c9eda544437f8b821364c367018f"
          }
        },
        "31c5d7cc88584b4fabb6436735758d34": {
          "model_module": "@jupyter-widgets/controls",
          "model_name": "HTMLModel",
          "model_module_version": "1.5.0",
          "state": {
            "_dom_classes": [],
            "_model_module": "@jupyter-widgets/controls",
            "_model_module_version": "1.5.0",
            "_model_name": "HTMLModel",
            "_view_count": null,
            "_view_module": "@jupyter-widgets/controls",
            "_view_module_version": "1.5.0",
            "_view_name": "HTMLView",
            "description": "",
            "description_tooltip": null,
            "layout": "IPY_MODEL_eec93a8ee5a84c8b924e4ac35fb6d61a",
            "placeholder": "​",
            "style": "IPY_MODEL_73d235c71e8645298e178e180a9eb2a8",
            "value": "train-00000-of-00001.parquet: 100%"
          }
        },
        "828e1454fd434b358e2870d76d8f2d21": {
          "model_module": "@jupyter-widgets/controls",
          "model_name": "FloatProgressModel",
          "model_module_version": "1.5.0",
          "state": {
            "_dom_classes": [],
            "_model_module": "@jupyter-widgets/controls",
            "_model_module_version": "1.5.0",
            "_model_name": "FloatProgressModel",
            "_view_count": null,
            "_view_module": "@jupyter-widgets/controls",
            "_view_module_version": "1.5.0",
            "_view_name": "ProgressView",
            "bar_style": "success",
            "description": "",
            "description_tooltip": null,
            "layout": "IPY_MODEL_4c6498d430a24c279e549098742592a0",
            "max": 20979968,
            "min": 0,
            "orientation": "horizontal",
            "style": "IPY_MODEL_a26d696c4eee476daa5151fd9bda5b94",
            "value": 20979968
          }
        },
        "6e30912c2fe04bfdb805b4a3dae821b0": {
          "model_module": "@jupyter-widgets/controls",
          "model_name": "HTMLModel",
          "model_module_version": "1.5.0",
          "state": {
            "_dom_classes": [],
            "_model_module": "@jupyter-widgets/controls",
            "_model_module_version": "1.5.0",
            "_model_name": "HTMLModel",
            "_view_count": null,
            "_view_module": "@jupyter-widgets/controls",
            "_view_module_version": "1.5.0",
            "_view_name": "HTMLView",
            "description": "",
            "description_tooltip": null,
            "layout": "IPY_MODEL_8e409b3e4ef0472089efbb53da9093c5",
            "placeholder": "​",
            "style": "IPY_MODEL_04507ca44c144957af060397fc96a4a6",
            "value": " 21.0M/21.0M [00:00&lt;00:00, 60.8MB/s]"
          }
        },
        "a7e8c9eda544437f8b821364c367018f": {
          "model_module": "@jupyter-widgets/base",
          "model_name": "LayoutModel",
          "model_module_version": "1.2.0",
          "state": {
            "_model_module": "@jupyter-widgets/base",
            "_model_module_version": "1.2.0",
            "_model_name": "LayoutModel",
            "_view_count": null,
            "_view_module": "@jupyter-widgets/base",
            "_view_module_version": "1.2.0",
            "_view_name": "LayoutView",
            "align_content": null,
            "align_items": null,
            "align_self": null,
            "border": null,
            "bottom": null,
            "display": null,
            "flex": null,
            "flex_flow": null,
            "grid_area": null,
            "grid_auto_columns": null,
            "grid_auto_flow": null,
            "grid_auto_rows": null,
            "grid_column": null,
            "grid_gap": null,
            "grid_row": null,
            "grid_template_areas": null,
            "grid_template_columns": null,
            "grid_template_rows": null,
            "height": null,
            "justify_content": null,
            "justify_items": null,
            "left": null,
            "margin": null,
            "max_height": null,
            "max_width": null,
            "min_height": null,
            "min_width": null,
            "object_fit": null,
            "object_position": null,
            "order": null,
            "overflow": null,
            "overflow_x": null,
            "overflow_y": null,
            "padding": null,
            "right": null,
            "top": null,
            "visibility": null,
            "width": null
          }
        },
        "eec93a8ee5a84c8b924e4ac35fb6d61a": {
          "model_module": "@jupyter-widgets/base",
          "model_name": "LayoutModel",
          "model_module_version": "1.2.0",
          "state": {
            "_model_module": "@jupyter-widgets/base",
            "_model_module_version": "1.2.0",
            "_model_name": "LayoutModel",
            "_view_count": null,
            "_view_module": "@jupyter-widgets/base",
            "_view_module_version": "1.2.0",
            "_view_name": "LayoutView",
            "align_content": null,
            "align_items": null,
            "align_self": null,
            "border": null,
            "bottom": null,
            "display": null,
            "flex": null,
            "flex_flow": null,
            "grid_area": null,
            "grid_auto_columns": null,
            "grid_auto_flow": null,
            "grid_auto_rows": null,
            "grid_column": null,
            "grid_gap": null,
            "grid_row": null,
            "grid_template_areas": null,
            "grid_template_columns": null,
            "grid_template_rows": null,
            "height": null,
            "justify_content": null,
            "justify_items": null,
            "left": null,
            "margin": null,
            "max_height": null,
            "max_width": null,
            "min_height": null,
            "min_width": null,
            "object_fit": null,
            "object_position": null,
            "order": null,
            "overflow": null,
            "overflow_x": null,
            "overflow_y": null,
            "padding": null,
            "right": null,
            "top": null,
            "visibility": null,
            "width": null
          }
        },
        "73d235c71e8645298e178e180a9eb2a8": {
          "model_module": "@jupyter-widgets/controls",
          "model_name": "DescriptionStyleModel",
          "model_module_version": "1.5.0",
          "state": {
            "_model_module": "@jupyter-widgets/controls",
            "_model_module_version": "1.5.0",
            "_model_name": "DescriptionStyleModel",
            "_view_count": null,
            "_view_module": "@jupyter-widgets/base",
            "_view_module_version": "1.2.0",
            "_view_name": "StyleView",
            "description_width": ""
          }
        },
        "4c6498d430a24c279e549098742592a0": {
          "model_module": "@jupyter-widgets/base",
          "model_name": "LayoutModel",
          "model_module_version": "1.2.0",
          "state": {
            "_model_module": "@jupyter-widgets/base",
            "_model_module_version": "1.2.0",
            "_model_name": "LayoutModel",
            "_view_count": null,
            "_view_module": "@jupyter-widgets/base",
            "_view_module_version": "1.2.0",
            "_view_name": "LayoutView",
            "align_content": null,
            "align_items": null,
            "align_self": null,
            "border": null,
            "bottom": null,
            "display": null,
            "flex": null,
            "flex_flow": null,
            "grid_area": null,
            "grid_auto_columns": null,
            "grid_auto_flow": null,
            "grid_auto_rows": null,
            "grid_column": null,
            "grid_gap": null,
            "grid_row": null,
            "grid_template_areas": null,
            "grid_template_columns": null,
            "grid_template_rows": null,
            "height": null,
            "justify_content": null,
            "justify_items": null,
            "left": null,
            "margin": null,
            "max_height": null,
            "max_width": null,
            "min_height": null,
            "min_width": null,
            "object_fit": null,
            "object_position": null,
            "order": null,
            "overflow": null,
            "overflow_x": null,
            "overflow_y": null,
            "padding": null,
            "right": null,
            "top": null,
            "visibility": null,
            "width": null
          }
        },
        "a26d696c4eee476daa5151fd9bda5b94": {
          "model_module": "@jupyter-widgets/controls",
          "model_name": "ProgressStyleModel",
          "model_module_version": "1.5.0",
          "state": {
            "_model_module": "@jupyter-widgets/controls",
            "_model_module_version": "1.5.0",
            "_model_name": "ProgressStyleModel",
            "_view_count": null,
            "_view_module": "@jupyter-widgets/base",
            "_view_module_version": "1.2.0",
            "_view_name": "StyleView",
            "bar_color": null,
            "description_width": ""
          }
        },
        "8e409b3e4ef0472089efbb53da9093c5": {
          "model_module": "@jupyter-widgets/base",
          "model_name": "LayoutModel",
          "model_module_version": "1.2.0",
          "state": {
            "_model_module": "@jupyter-widgets/base",
            "_model_module_version": "1.2.0",
            "_model_name": "LayoutModel",
            "_view_count": null,
            "_view_module": "@jupyter-widgets/base",
            "_view_module_version": "1.2.0",
            "_view_name": "LayoutView",
            "align_content": null,
            "align_items": null,
            "align_self": null,
            "border": null,
            "bottom": null,
            "display": null,
            "flex": null,
            "flex_flow": null,
            "grid_area": null,
            "grid_auto_columns": null,
            "grid_auto_flow": null,
            "grid_auto_rows": null,
            "grid_column": null,
            "grid_gap": null,
            "grid_row": null,
            "grid_template_areas": null,
            "grid_template_columns": null,
            "grid_template_rows": null,
            "height": null,
            "justify_content": null,
            "justify_items": null,
            "left": null,
            "margin": null,
            "max_height": null,
            "max_width": null,
            "min_height": null,
            "min_width": null,
            "object_fit": null,
            "object_position": null,
            "order": null,
            "overflow": null,
            "overflow_x": null,
            "overflow_y": null,
            "padding": null,
            "right": null,
            "top": null,
            "visibility": null,
            "width": null
          }
        },
        "04507ca44c144957af060397fc96a4a6": {
          "model_module": "@jupyter-widgets/controls",
          "model_name": "DescriptionStyleModel",
          "model_module_version": "1.5.0",
          "state": {
            "_model_module": "@jupyter-widgets/controls",
            "_model_module_version": "1.5.0",
            "_model_name": "DescriptionStyleModel",
            "_view_count": null,
            "_view_module": "@jupyter-widgets/base",
            "_view_module_version": "1.2.0",
            "_view_name": "StyleView",
            "description_width": ""
          }
        },
        "3f505edffdc642808913e12b3072bf58": {
          "model_module": "@jupyter-widgets/controls",
          "model_name": "HBoxModel",
          "model_module_version": "1.5.0",
          "state": {
            "_dom_classes": [],
            "_model_module": "@jupyter-widgets/controls",
            "_model_module_version": "1.5.0",
            "_model_name": "HBoxModel",
            "_view_count": null,
            "_view_module": "@jupyter-widgets/controls",
            "_view_module_version": "1.5.0",
            "_view_name": "HBoxView",
            "box_style": "",
            "children": [
              "IPY_MODEL_a7b23d7bfc5040af87927e9196afd930",
              "IPY_MODEL_185154c383a2447ba97b30372c07f6b6",
              "IPY_MODEL_4f764555c2e341059de12b9c9818a441"
            ],
            "layout": "IPY_MODEL_1a2c3061b44549029374070a40fb42d1"
          }
        },
        "a7b23d7bfc5040af87927e9196afd930": {
          "model_module": "@jupyter-widgets/controls",
          "model_name": "HTMLModel",
          "model_module_version": "1.5.0",
          "state": {
            "_dom_classes": [],
            "_model_module": "@jupyter-widgets/controls",
            "_model_module_version": "1.5.0",
            "_model_name": "HTMLModel",
            "_view_count": null,
            "_view_module": "@jupyter-widgets/controls",
            "_view_module_version": "1.5.0",
            "_view_name": "HTMLView",
            "description": "",
            "description_tooltip": null,
            "layout": "IPY_MODEL_1eb522f3f7964a7aa3fee7fafea3781f",
            "placeholder": "​",
            "style": "IPY_MODEL_b51a4fcada104710af0223953731d372",
            "value": "test-00000-of-00001.parquet: 100%"
          }
        },
        "185154c383a2447ba97b30372c07f6b6": {
          "model_module": "@jupyter-widgets/controls",
          "model_name": "FloatProgressModel",
          "model_module_version": "1.5.0",
          "state": {
            "_dom_classes": [],
            "_model_module": "@jupyter-widgets/controls",
            "_model_module_version": "1.5.0",
            "_model_name": "FloatProgressModel",
            "_view_count": null,
            "_view_module": "@jupyter-widgets/controls",
            "_view_module_version": "1.5.0",
            "_view_name": "ProgressView",
            "bar_style": "success",
            "description": "",
            "description_tooltip": null,
            "layout": "IPY_MODEL_593821cd5e5b434fb130a89dfd8a863c",
            "max": 20470363,
            "min": 0,
            "orientation": "horizontal",
            "style": "IPY_MODEL_167fbd341272411da1645c5b0dd55eaa",
            "value": 20470363
          }
        },
        "4f764555c2e341059de12b9c9818a441": {
          "model_module": "@jupyter-widgets/controls",
          "model_name": "HTMLModel",
          "model_module_version": "1.5.0",
          "state": {
            "_dom_classes": [],
            "_model_module": "@jupyter-widgets/controls",
            "_model_module_version": "1.5.0",
            "_model_name": "HTMLModel",
            "_view_count": null,
            "_view_module": "@jupyter-widgets/controls",
            "_view_module_version": "1.5.0",
            "_view_name": "HTMLView",
            "description": "",
            "description_tooltip": null,
            "layout": "IPY_MODEL_e55971d676d1431ab78e6e2c4b99a2c4",
            "placeholder": "​",
            "style": "IPY_MODEL_01be32d1fcc141e8b4320890079a0c94",
            "value": " 20.5M/20.5M [00:00&lt;00:00, 188MB/s]"
          }
        },
        "1a2c3061b44549029374070a40fb42d1": {
          "model_module": "@jupyter-widgets/base",
          "model_name": "LayoutModel",
          "model_module_version": "1.2.0",
          "state": {
            "_model_module": "@jupyter-widgets/base",
            "_model_module_version": "1.2.0",
            "_model_name": "LayoutModel",
            "_view_count": null,
            "_view_module": "@jupyter-widgets/base",
            "_view_module_version": "1.2.0",
            "_view_name": "LayoutView",
            "align_content": null,
            "align_items": null,
            "align_self": null,
            "border": null,
            "bottom": null,
            "display": null,
            "flex": null,
            "flex_flow": null,
            "grid_area": null,
            "grid_auto_columns": null,
            "grid_auto_flow": null,
            "grid_auto_rows": null,
            "grid_column": null,
            "grid_gap": null,
            "grid_row": null,
            "grid_template_areas": null,
            "grid_template_columns": null,
            "grid_template_rows": null,
            "height": null,
            "justify_content": null,
            "justify_items": null,
            "left": null,
            "margin": null,
            "max_height": null,
            "max_width": null,
            "min_height": null,
            "min_width": null,
            "object_fit": null,
            "object_position": null,
            "order": null,
            "overflow": null,
            "overflow_x": null,
            "overflow_y": null,
            "padding": null,
            "right": null,
            "top": null,
            "visibility": null,
            "width": null
          }
        },
        "1eb522f3f7964a7aa3fee7fafea3781f": {
          "model_module": "@jupyter-widgets/base",
          "model_name": "LayoutModel",
          "model_module_version": "1.2.0",
          "state": {
            "_model_module": "@jupyter-widgets/base",
            "_model_module_version": "1.2.0",
            "_model_name": "LayoutModel",
            "_view_count": null,
            "_view_module": "@jupyter-widgets/base",
            "_view_module_version": "1.2.0",
            "_view_name": "LayoutView",
            "align_content": null,
            "align_items": null,
            "align_self": null,
            "border": null,
            "bottom": null,
            "display": null,
            "flex": null,
            "flex_flow": null,
            "grid_area": null,
            "grid_auto_columns": null,
            "grid_auto_flow": null,
            "grid_auto_rows": null,
            "grid_column": null,
            "grid_gap": null,
            "grid_row": null,
            "grid_template_areas": null,
            "grid_template_columns": null,
            "grid_template_rows": null,
            "height": null,
            "justify_content": null,
            "justify_items": null,
            "left": null,
            "margin": null,
            "max_height": null,
            "max_width": null,
            "min_height": null,
            "min_width": null,
            "object_fit": null,
            "object_position": null,
            "order": null,
            "overflow": null,
            "overflow_x": null,
            "overflow_y": null,
            "padding": null,
            "right": null,
            "top": null,
            "visibility": null,
            "width": null
          }
        },
        "b51a4fcada104710af0223953731d372": {
          "model_module": "@jupyter-widgets/controls",
          "model_name": "DescriptionStyleModel",
          "model_module_version": "1.5.0",
          "state": {
            "_model_module": "@jupyter-widgets/controls",
            "_model_module_version": "1.5.0",
            "_model_name": "DescriptionStyleModel",
            "_view_count": null,
            "_view_module": "@jupyter-widgets/base",
            "_view_module_version": "1.2.0",
            "_view_name": "StyleView",
            "description_width": ""
          }
        },
        "593821cd5e5b434fb130a89dfd8a863c": {
          "model_module": "@jupyter-widgets/base",
          "model_name": "LayoutModel",
          "model_module_version": "1.2.0",
          "state": {
            "_model_module": "@jupyter-widgets/base",
            "_model_module_version": "1.2.0",
            "_model_name": "LayoutModel",
            "_view_count": null,
            "_view_module": "@jupyter-widgets/base",
            "_view_module_version": "1.2.0",
            "_view_name": "LayoutView",
            "align_content": null,
            "align_items": null,
            "align_self": null,
            "border": null,
            "bottom": null,
            "display": null,
            "flex": null,
            "flex_flow": null,
            "grid_area": null,
            "grid_auto_columns": null,
            "grid_auto_flow": null,
            "grid_auto_rows": null,
            "grid_column": null,
            "grid_gap": null,
            "grid_row": null,
            "grid_template_areas": null,
            "grid_template_columns": null,
            "grid_template_rows": null,
            "height": null,
            "justify_content": null,
            "justify_items": null,
            "left": null,
            "margin": null,
            "max_height": null,
            "max_width": null,
            "min_height": null,
            "min_width": null,
            "object_fit": null,
            "object_position": null,
            "order": null,
            "overflow": null,
            "overflow_x": null,
            "overflow_y": null,
            "padding": null,
            "right": null,
            "top": null,
            "visibility": null,
            "width": null
          }
        },
        "167fbd341272411da1645c5b0dd55eaa": {
          "model_module": "@jupyter-widgets/controls",
          "model_name": "ProgressStyleModel",
          "model_module_version": "1.5.0",
          "state": {
            "_model_module": "@jupyter-widgets/controls",
            "_model_module_version": "1.5.0",
            "_model_name": "ProgressStyleModel",
            "_view_count": null,
            "_view_module": "@jupyter-widgets/base",
            "_view_module_version": "1.2.0",
            "_view_name": "StyleView",
            "bar_color": null,
            "description_width": ""
          }
        },
        "e55971d676d1431ab78e6e2c4b99a2c4": {
          "model_module": "@jupyter-widgets/base",
          "model_name": "LayoutModel",
          "model_module_version": "1.2.0",
          "state": {
            "_model_module": "@jupyter-widgets/base",
            "_model_module_version": "1.2.0",
            "_model_name": "LayoutModel",
            "_view_count": null,
            "_view_module": "@jupyter-widgets/base",
            "_view_module_version": "1.2.0",
            "_view_name": "LayoutView",
            "align_content": null,
            "align_items": null,
            "align_self": null,
            "border": null,
            "bottom": null,
            "display": null,
            "flex": null,
            "flex_flow": null,
            "grid_area": null,
            "grid_auto_columns": null,
            "grid_auto_flow": null,
            "grid_auto_rows": null,
            "grid_column": null,
            "grid_gap": null,
            "grid_row": null,
            "grid_template_areas": null,
            "grid_template_columns": null,
            "grid_template_rows": null,
            "height": null,
            "justify_content": null,
            "justify_items": null,
            "left": null,
            "margin": null,
            "max_height": null,
            "max_width": null,
            "min_height": null,
            "min_width": null,
            "object_fit": null,
            "object_position": null,
            "order": null,
            "overflow": null,
            "overflow_x": null,
            "overflow_y": null,
            "padding": null,
            "right": null,
            "top": null,
            "visibility": null,
            "width": null
          }
        },
        "01be32d1fcc141e8b4320890079a0c94": {
          "model_module": "@jupyter-widgets/controls",
          "model_name": "DescriptionStyleModel",
          "model_module_version": "1.5.0",
          "state": {
            "_model_module": "@jupyter-widgets/controls",
            "_model_module_version": "1.5.0",
            "_model_name": "DescriptionStyleModel",
            "_view_count": null,
            "_view_module": "@jupyter-widgets/base",
            "_view_module_version": "1.2.0",
            "_view_name": "StyleView",
            "description_width": ""
          }
        },
        "ec59684ee166481ea7cc6eab003dc39f": {
          "model_module": "@jupyter-widgets/controls",
          "model_name": "HBoxModel",
          "model_module_version": "1.5.0",
          "state": {
            "_dom_classes": [],
            "_model_module": "@jupyter-widgets/controls",
            "_model_module_version": "1.5.0",
            "_model_name": "HBoxModel",
            "_view_count": null,
            "_view_module": "@jupyter-widgets/controls",
            "_view_module_version": "1.5.0",
            "_view_name": "HBoxView",
            "box_style": "",
            "children": [
              "IPY_MODEL_f47aa887f7e14f94bdda2e6022efae5b",
              "IPY_MODEL_a03fc52b84a6418e9348fe8564106fd6",
              "IPY_MODEL_bf022936765b4b278ed85eac14a813e7"
            ],
            "layout": "IPY_MODEL_ad251c0088454eb8bfd2c70a14ea43dc"
          }
        },
        "f47aa887f7e14f94bdda2e6022efae5b": {
          "model_module": "@jupyter-widgets/controls",
          "model_name": "HTMLModel",
          "model_module_version": "1.5.0",
          "state": {
            "_dom_classes": [],
            "_model_module": "@jupyter-widgets/controls",
            "_model_module_version": "1.5.0",
            "_model_name": "HTMLModel",
            "_view_count": null,
            "_view_module": "@jupyter-widgets/controls",
            "_view_module_version": "1.5.0",
            "_view_name": "HTMLView",
            "description": "",
            "description_tooltip": null,
            "layout": "IPY_MODEL_97d7b4ddba4e4b6c84ab8b10b50b5e8e",
            "placeholder": "​",
            "style": "IPY_MODEL_bd29947896204bdf8d2b3c5e59248720",
            "value": "unsupervised-00000-of-00001.parquet: 100%"
          }
        },
        "a03fc52b84a6418e9348fe8564106fd6": {
          "model_module": "@jupyter-widgets/controls",
          "model_name": "FloatProgressModel",
          "model_module_version": "1.5.0",
          "state": {
            "_dom_classes": [],
            "_model_module": "@jupyter-widgets/controls",
            "_model_module_version": "1.5.0",
            "_model_name": "FloatProgressModel",
            "_view_count": null,
            "_view_module": "@jupyter-widgets/controls",
            "_view_module_version": "1.5.0",
            "_view_name": "ProgressView",
            "bar_style": "success",
            "description": "",
            "description_tooltip": null,
            "layout": "IPY_MODEL_8abb13bfc6f04f75bad7d0f4ab0e4a35",
            "max": 41996509,
            "min": 0,
            "orientation": "horizontal",
            "style": "IPY_MODEL_28d33794687b4207aef9c07309fca7ae",
            "value": 41996509
          }
        },
        "bf022936765b4b278ed85eac14a813e7": {
          "model_module": "@jupyter-widgets/controls",
          "model_name": "HTMLModel",
          "model_module_version": "1.5.0",
          "state": {
            "_dom_classes": [],
            "_model_module": "@jupyter-widgets/controls",
            "_model_module_version": "1.5.0",
            "_model_name": "HTMLModel",
            "_view_count": null,
            "_view_module": "@jupyter-widgets/controls",
            "_view_module_version": "1.5.0",
            "_view_name": "HTMLView",
            "description": "",
            "description_tooltip": null,
            "layout": "IPY_MODEL_f8bbd6ec9f974e898dcf440f6e361380",
            "placeholder": "​",
            "style": "IPY_MODEL_7ab22bd3851f4431a6c75028572e4996",
            "value": " 42.0M/42.0M [00:00&lt;00:00, 137MB/s]"
          }
        },
        "ad251c0088454eb8bfd2c70a14ea43dc": {
          "model_module": "@jupyter-widgets/base",
          "model_name": "LayoutModel",
          "model_module_version": "1.2.0",
          "state": {
            "_model_module": "@jupyter-widgets/base",
            "_model_module_version": "1.2.0",
            "_model_name": "LayoutModel",
            "_view_count": null,
            "_view_module": "@jupyter-widgets/base",
            "_view_module_version": "1.2.0",
            "_view_name": "LayoutView",
            "align_content": null,
            "align_items": null,
            "align_self": null,
            "border": null,
            "bottom": null,
            "display": null,
            "flex": null,
            "flex_flow": null,
            "grid_area": null,
            "grid_auto_columns": null,
            "grid_auto_flow": null,
            "grid_auto_rows": null,
            "grid_column": null,
            "grid_gap": null,
            "grid_row": null,
            "grid_template_areas": null,
            "grid_template_columns": null,
            "grid_template_rows": null,
            "height": null,
            "justify_content": null,
            "justify_items": null,
            "left": null,
            "margin": null,
            "max_height": null,
            "max_width": null,
            "min_height": null,
            "min_width": null,
            "object_fit": null,
            "object_position": null,
            "order": null,
            "overflow": null,
            "overflow_x": null,
            "overflow_y": null,
            "padding": null,
            "right": null,
            "top": null,
            "visibility": null,
            "width": null
          }
        },
        "97d7b4ddba4e4b6c84ab8b10b50b5e8e": {
          "model_module": "@jupyter-widgets/base",
          "model_name": "LayoutModel",
          "model_module_version": "1.2.0",
          "state": {
            "_model_module": "@jupyter-widgets/base",
            "_model_module_version": "1.2.0",
            "_model_name": "LayoutModel",
            "_view_count": null,
            "_view_module": "@jupyter-widgets/base",
            "_view_module_version": "1.2.0",
            "_view_name": "LayoutView",
            "align_content": null,
            "align_items": null,
            "align_self": null,
            "border": null,
            "bottom": null,
            "display": null,
            "flex": null,
            "flex_flow": null,
            "grid_area": null,
            "grid_auto_columns": null,
            "grid_auto_flow": null,
            "grid_auto_rows": null,
            "grid_column": null,
            "grid_gap": null,
            "grid_row": null,
            "grid_template_areas": null,
            "grid_template_columns": null,
            "grid_template_rows": null,
            "height": null,
            "justify_content": null,
            "justify_items": null,
            "left": null,
            "margin": null,
            "max_height": null,
            "max_width": null,
            "min_height": null,
            "min_width": null,
            "object_fit": null,
            "object_position": null,
            "order": null,
            "overflow": null,
            "overflow_x": null,
            "overflow_y": null,
            "padding": null,
            "right": null,
            "top": null,
            "visibility": null,
            "width": null
          }
        },
        "bd29947896204bdf8d2b3c5e59248720": {
          "model_module": "@jupyter-widgets/controls",
          "model_name": "DescriptionStyleModel",
          "model_module_version": "1.5.0",
          "state": {
            "_model_module": "@jupyter-widgets/controls",
            "_model_module_version": "1.5.0",
            "_model_name": "DescriptionStyleModel",
            "_view_count": null,
            "_view_module": "@jupyter-widgets/base",
            "_view_module_version": "1.2.0",
            "_view_name": "StyleView",
            "description_width": ""
          }
        },
        "8abb13bfc6f04f75bad7d0f4ab0e4a35": {
          "model_module": "@jupyter-widgets/base",
          "model_name": "LayoutModel",
          "model_module_version": "1.2.0",
          "state": {
            "_model_module": "@jupyter-widgets/base",
            "_model_module_version": "1.2.0",
            "_model_name": "LayoutModel",
            "_view_count": null,
            "_view_module": "@jupyter-widgets/base",
            "_view_module_version": "1.2.0",
            "_view_name": "LayoutView",
            "align_content": null,
            "align_items": null,
            "align_self": null,
            "border": null,
            "bottom": null,
            "display": null,
            "flex": null,
            "flex_flow": null,
            "grid_area": null,
            "grid_auto_columns": null,
            "grid_auto_flow": null,
            "grid_auto_rows": null,
            "grid_column": null,
            "grid_gap": null,
            "grid_row": null,
            "grid_template_areas": null,
            "grid_template_columns": null,
            "grid_template_rows": null,
            "height": null,
            "justify_content": null,
            "justify_items": null,
            "left": null,
            "margin": null,
            "max_height": null,
            "max_width": null,
            "min_height": null,
            "min_width": null,
            "object_fit": null,
            "object_position": null,
            "order": null,
            "overflow": null,
            "overflow_x": null,
            "overflow_y": null,
            "padding": null,
            "right": null,
            "top": null,
            "visibility": null,
            "width": null
          }
        },
        "28d33794687b4207aef9c07309fca7ae": {
          "model_module": "@jupyter-widgets/controls",
          "model_name": "ProgressStyleModel",
          "model_module_version": "1.5.0",
          "state": {
            "_model_module": "@jupyter-widgets/controls",
            "_model_module_version": "1.5.0",
            "_model_name": "ProgressStyleModel",
            "_view_count": null,
            "_view_module": "@jupyter-widgets/base",
            "_view_module_version": "1.2.0",
            "_view_name": "StyleView",
            "bar_color": null,
            "description_width": ""
          }
        },
        "f8bbd6ec9f974e898dcf440f6e361380": {
          "model_module": "@jupyter-widgets/base",
          "model_name": "LayoutModel",
          "model_module_version": "1.2.0",
          "state": {
            "_model_module": "@jupyter-widgets/base",
            "_model_module_version": "1.2.0",
            "_model_name": "LayoutModel",
            "_view_count": null,
            "_view_module": "@jupyter-widgets/base",
            "_view_module_version": "1.2.0",
            "_view_name": "LayoutView",
            "align_content": null,
            "align_items": null,
            "align_self": null,
            "border": null,
            "bottom": null,
            "display": null,
            "flex": null,
            "flex_flow": null,
            "grid_area": null,
            "grid_auto_columns": null,
            "grid_auto_flow": null,
            "grid_auto_rows": null,
            "grid_column": null,
            "grid_gap": null,
            "grid_row": null,
            "grid_template_areas": null,
            "grid_template_columns": null,
            "grid_template_rows": null,
            "height": null,
            "justify_content": null,
            "justify_items": null,
            "left": null,
            "margin": null,
            "max_height": null,
            "max_width": null,
            "min_height": null,
            "min_width": null,
            "object_fit": null,
            "object_position": null,
            "order": null,
            "overflow": null,
            "overflow_x": null,
            "overflow_y": null,
            "padding": null,
            "right": null,
            "top": null,
            "visibility": null,
            "width": null
          }
        },
        "7ab22bd3851f4431a6c75028572e4996": {
          "model_module": "@jupyter-widgets/controls",
          "model_name": "DescriptionStyleModel",
          "model_module_version": "1.5.0",
          "state": {
            "_model_module": "@jupyter-widgets/controls",
            "_model_module_version": "1.5.0",
            "_model_name": "DescriptionStyleModel",
            "_view_count": null,
            "_view_module": "@jupyter-widgets/base",
            "_view_module_version": "1.2.0",
            "_view_name": "StyleView",
            "description_width": ""
          }
        },
        "fae840f1d8df4367a4833d02040d0082": {
          "model_module": "@jupyter-widgets/controls",
          "model_name": "HBoxModel",
          "model_module_version": "1.5.0",
          "state": {
            "_dom_classes": [],
            "_model_module": "@jupyter-widgets/controls",
            "_model_module_version": "1.5.0",
            "_model_name": "HBoxModel",
            "_view_count": null,
            "_view_module": "@jupyter-widgets/controls",
            "_view_module_version": "1.5.0",
            "_view_name": "HBoxView",
            "box_style": "",
            "children": [
              "IPY_MODEL_e677a63df3644f378fe2cc335ed862db",
              "IPY_MODEL_cc08cd09a1cc4edfaf711f8991fb96c2",
              "IPY_MODEL_3df2bd6f67fd4ea1bcc441cc16102f8e"
            ],
            "layout": "IPY_MODEL_e4fdee59222e4db197bc57df41bb7931"
          }
        },
        "e677a63df3644f378fe2cc335ed862db": {
          "model_module": "@jupyter-widgets/controls",
          "model_name": "HTMLModel",
          "model_module_version": "1.5.0",
          "state": {
            "_dom_classes": [],
            "_model_module": "@jupyter-widgets/controls",
            "_model_module_version": "1.5.0",
            "_model_name": "HTMLModel",
            "_view_count": null,
            "_view_module": "@jupyter-widgets/controls",
            "_view_module_version": "1.5.0",
            "_view_name": "HTMLView",
            "description": "",
            "description_tooltip": null,
            "layout": "IPY_MODEL_42a565e3315d40bd9b9aabec46a2197d",
            "placeholder": "​",
            "style": "IPY_MODEL_355e8bf08c97433e9201f913afd67326",
            "value": "Generating train split: 100%"
          }
        },
        "cc08cd09a1cc4edfaf711f8991fb96c2": {
          "model_module": "@jupyter-widgets/controls",
          "model_name": "FloatProgressModel",
          "model_module_version": "1.5.0",
          "state": {
            "_dom_classes": [],
            "_model_module": "@jupyter-widgets/controls",
            "_model_module_version": "1.5.0",
            "_model_name": "FloatProgressModel",
            "_view_count": null,
            "_view_module": "@jupyter-widgets/controls",
            "_view_module_version": "1.5.0",
            "_view_name": "ProgressView",
            "bar_style": "success",
            "description": "",
            "description_tooltip": null,
            "layout": "IPY_MODEL_9ecc95c55e814fd98a6f2c0aaf1d50b6",
            "max": 25000,
            "min": 0,
            "orientation": "horizontal",
            "style": "IPY_MODEL_b2b136fb9b15453da1f0c43c9235f10a",
            "value": 25000
          }
        },
        "3df2bd6f67fd4ea1bcc441cc16102f8e": {
          "model_module": "@jupyter-widgets/controls",
          "model_name": "HTMLModel",
          "model_module_version": "1.5.0",
          "state": {
            "_dom_classes": [],
            "_model_module": "@jupyter-widgets/controls",
            "_model_module_version": "1.5.0",
            "_model_name": "HTMLModel",
            "_view_count": null,
            "_view_module": "@jupyter-widgets/controls",
            "_view_module_version": "1.5.0",
            "_view_name": "HTMLView",
            "description": "",
            "description_tooltip": null,
            "layout": "IPY_MODEL_668f8c5ab6884fb0ad479123a966fbf0",
            "placeholder": "​",
            "style": "IPY_MODEL_9cb405a6ec1240afb8f22e924b7fe2c9",
            "value": " 25000/25000 [00:00&lt;00:00, 112169.65 examples/s]"
          }
        },
        "e4fdee59222e4db197bc57df41bb7931": {
          "model_module": "@jupyter-widgets/base",
          "model_name": "LayoutModel",
          "model_module_version": "1.2.0",
          "state": {
            "_model_module": "@jupyter-widgets/base",
            "_model_module_version": "1.2.0",
            "_model_name": "LayoutModel",
            "_view_count": null,
            "_view_module": "@jupyter-widgets/base",
            "_view_module_version": "1.2.0",
            "_view_name": "LayoutView",
            "align_content": null,
            "align_items": null,
            "align_self": null,
            "border": null,
            "bottom": null,
            "display": null,
            "flex": null,
            "flex_flow": null,
            "grid_area": null,
            "grid_auto_columns": null,
            "grid_auto_flow": null,
            "grid_auto_rows": null,
            "grid_column": null,
            "grid_gap": null,
            "grid_row": null,
            "grid_template_areas": null,
            "grid_template_columns": null,
            "grid_template_rows": null,
            "height": null,
            "justify_content": null,
            "justify_items": null,
            "left": null,
            "margin": null,
            "max_height": null,
            "max_width": null,
            "min_height": null,
            "min_width": null,
            "object_fit": null,
            "object_position": null,
            "order": null,
            "overflow": null,
            "overflow_x": null,
            "overflow_y": null,
            "padding": null,
            "right": null,
            "top": null,
            "visibility": null,
            "width": null
          }
        },
        "42a565e3315d40bd9b9aabec46a2197d": {
          "model_module": "@jupyter-widgets/base",
          "model_name": "LayoutModel",
          "model_module_version": "1.2.0",
          "state": {
            "_model_module": "@jupyter-widgets/base",
            "_model_module_version": "1.2.0",
            "_model_name": "LayoutModel",
            "_view_count": null,
            "_view_module": "@jupyter-widgets/base",
            "_view_module_version": "1.2.0",
            "_view_name": "LayoutView",
            "align_content": null,
            "align_items": null,
            "align_self": null,
            "border": null,
            "bottom": null,
            "display": null,
            "flex": null,
            "flex_flow": null,
            "grid_area": null,
            "grid_auto_columns": null,
            "grid_auto_flow": null,
            "grid_auto_rows": null,
            "grid_column": null,
            "grid_gap": null,
            "grid_row": null,
            "grid_template_areas": null,
            "grid_template_columns": null,
            "grid_template_rows": null,
            "height": null,
            "justify_content": null,
            "justify_items": null,
            "left": null,
            "margin": null,
            "max_height": null,
            "max_width": null,
            "min_height": null,
            "min_width": null,
            "object_fit": null,
            "object_position": null,
            "order": null,
            "overflow": null,
            "overflow_x": null,
            "overflow_y": null,
            "padding": null,
            "right": null,
            "top": null,
            "visibility": null,
            "width": null
          }
        },
        "355e8bf08c97433e9201f913afd67326": {
          "model_module": "@jupyter-widgets/controls",
          "model_name": "DescriptionStyleModel",
          "model_module_version": "1.5.0",
          "state": {
            "_model_module": "@jupyter-widgets/controls",
            "_model_module_version": "1.5.0",
            "_model_name": "DescriptionStyleModel",
            "_view_count": null,
            "_view_module": "@jupyter-widgets/base",
            "_view_module_version": "1.2.0",
            "_view_name": "StyleView",
            "description_width": ""
          }
        },
        "9ecc95c55e814fd98a6f2c0aaf1d50b6": {
          "model_module": "@jupyter-widgets/base",
          "model_name": "LayoutModel",
          "model_module_version": "1.2.0",
          "state": {
            "_model_module": "@jupyter-widgets/base",
            "_model_module_version": "1.2.0",
            "_model_name": "LayoutModel",
            "_view_count": null,
            "_view_module": "@jupyter-widgets/base",
            "_view_module_version": "1.2.0",
            "_view_name": "LayoutView",
            "align_content": null,
            "align_items": null,
            "align_self": null,
            "border": null,
            "bottom": null,
            "display": null,
            "flex": null,
            "flex_flow": null,
            "grid_area": null,
            "grid_auto_columns": null,
            "grid_auto_flow": null,
            "grid_auto_rows": null,
            "grid_column": null,
            "grid_gap": null,
            "grid_row": null,
            "grid_template_areas": null,
            "grid_template_columns": null,
            "grid_template_rows": null,
            "height": null,
            "justify_content": null,
            "justify_items": null,
            "left": null,
            "margin": null,
            "max_height": null,
            "max_width": null,
            "min_height": null,
            "min_width": null,
            "object_fit": null,
            "object_position": null,
            "order": null,
            "overflow": null,
            "overflow_x": null,
            "overflow_y": null,
            "padding": null,
            "right": null,
            "top": null,
            "visibility": null,
            "width": null
          }
        },
        "b2b136fb9b15453da1f0c43c9235f10a": {
          "model_module": "@jupyter-widgets/controls",
          "model_name": "ProgressStyleModel",
          "model_module_version": "1.5.0",
          "state": {
            "_model_module": "@jupyter-widgets/controls",
            "_model_module_version": "1.5.0",
            "_model_name": "ProgressStyleModel",
            "_view_count": null,
            "_view_module": "@jupyter-widgets/base",
            "_view_module_version": "1.2.0",
            "_view_name": "StyleView",
            "bar_color": null,
            "description_width": ""
          }
        },
        "668f8c5ab6884fb0ad479123a966fbf0": {
          "model_module": "@jupyter-widgets/base",
          "model_name": "LayoutModel",
          "model_module_version": "1.2.0",
          "state": {
            "_model_module": "@jupyter-widgets/base",
            "_model_module_version": "1.2.0",
            "_model_name": "LayoutModel",
            "_view_count": null,
            "_view_module": "@jupyter-widgets/base",
            "_view_module_version": "1.2.0",
            "_view_name": "LayoutView",
            "align_content": null,
            "align_items": null,
            "align_self": null,
            "border": null,
            "bottom": null,
            "display": null,
            "flex": null,
            "flex_flow": null,
            "grid_area": null,
            "grid_auto_columns": null,
            "grid_auto_flow": null,
            "grid_auto_rows": null,
            "grid_column": null,
            "grid_gap": null,
            "grid_row": null,
            "grid_template_areas": null,
            "grid_template_columns": null,
            "grid_template_rows": null,
            "height": null,
            "justify_content": null,
            "justify_items": null,
            "left": null,
            "margin": null,
            "max_height": null,
            "max_width": null,
            "min_height": null,
            "min_width": null,
            "object_fit": null,
            "object_position": null,
            "order": null,
            "overflow": null,
            "overflow_x": null,
            "overflow_y": null,
            "padding": null,
            "right": null,
            "top": null,
            "visibility": null,
            "width": null
          }
        },
        "9cb405a6ec1240afb8f22e924b7fe2c9": {
          "model_module": "@jupyter-widgets/controls",
          "model_name": "DescriptionStyleModel",
          "model_module_version": "1.5.0",
          "state": {
            "_model_module": "@jupyter-widgets/controls",
            "_model_module_version": "1.5.0",
            "_model_name": "DescriptionStyleModel",
            "_view_count": null,
            "_view_module": "@jupyter-widgets/base",
            "_view_module_version": "1.2.0",
            "_view_name": "StyleView",
            "description_width": ""
          }
        },
        "0da4abad97ac48bfa130acf3f5c21d6f": {
          "model_module": "@jupyter-widgets/controls",
          "model_name": "HBoxModel",
          "model_module_version": "1.5.0",
          "state": {
            "_dom_classes": [],
            "_model_module": "@jupyter-widgets/controls",
            "_model_module_version": "1.5.0",
            "_model_name": "HBoxModel",
            "_view_count": null,
            "_view_module": "@jupyter-widgets/controls",
            "_view_module_version": "1.5.0",
            "_view_name": "HBoxView",
            "box_style": "",
            "children": [
              "IPY_MODEL_f3394049299544cd83c521164899e62b",
              "IPY_MODEL_58adc008fc00498fb6b5347166ed1f02",
              "IPY_MODEL_6f58f632f10a4ad0ad9390969320c6db"
            ],
            "layout": "IPY_MODEL_0e5d846e7fb84e66b3c2555bb253ff11"
          }
        },
        "f3394049299544cd83c521164899e62b": {
          "model_module": "@jupyter-widgets/controls",
          "model_name": "HTMLModel",
          "model_module_version": "1.5.0",
          "state": {
            "_dom_classes": [],
            "_model_module": "@jupyter-widgets/controls",
            "_model_module_version": "1.5.0",
            "_model_name": "HTMLModel",
            "_view_count": null,
            "_view_module": "@jupyter-widgets/controls",
            "_view_module_version": "1.5.0",
            "_view_name": "HTMLView",
            "description": "",
            "description_tooltip": null,
            "layout": "IPY_MODEL_157925bc4a524b3185f2b609b7585e38",
            "placeholder": "​",
            "style": "IPY_MODEL_8f4b262e633f4f33b7b4e39800988315",
            "value": "Generating test split: 100%"
          }
        },
        "58adc008fc00498fb6b5347166ed1f02": {
          "model_module": "@jupyter-widgets/controls",
          "model_name": "FloatProgressModel",
          "model_module_version": "1.5.0",
          "state": {
            "_dom_classes": [],
            "_model_module": "@jupyter-widgets/controls",
            "_model_module_version": "1.5.0",
            "_model_name": "FloatProgressModel",
            "_view_count": null,
            "_view_module": "@jupyter-widgets/controls",
            "_view_module_version": "1.5.0",
            "_view_name": "ProgressView",
            "bar_style": "success",
            "description": "",
            "description_tooltip": null,
            "layout": "IPY_MODEL_3faa7b447869487fa475139b34e9798b",
            "max": 25000,
            "min": 0,
            "orientation": "horizontal",
            "style": "IPY_MODEL_40325291e166415e99d11f8cdb702494",
            "value": 25000
          }
        },
        "6f58f632f10a4ad0ad9390969320c6db": {
          "model_module": "@jupyter-widgets/controls",
          "model_name": "HTMLModel",
          "model_module_version": "1.5.0",
          "state": {
            "_dom_classes": [],
            "_model_module": "@jupyter-widgets/controls",
            "_model_module_version": "1.5.0",
            "_model_name": "HTMLModel",
            "_view_count": null,
            "_view_module": "@jupyter-widgets/controls",
            "_view_module_version": "1.5.0",
            "_view_name": "HTMLView",
            "description": "",
            "description_tooltip": null,
            "layout": "IPY_MODEL_66f0353ce36849538d01bf14d0b5af8e",
            "placeholder": "​",
            "style": "IPY_MODEL_4f71e62a5fba49e6a8e346664d0f82e8",
            "value": " 25000/25000 [00:00&lt;00:00, 91476.49 examples/s]"
          }
        },
        "0e5d846e7fb84e66b3c2555bb253ff11": {
          "model_module": "@jupyter-widgets/base",
          "model_name": "LayoutModel",
          "model_module_version": "1.2.0",
          "state": {
            "_model_module": "@jupyter-widgets/base",
            "_model_module_version": "1.2.0",
            "_model_name": "LayoutModel",
            "_view_count": null,
            "_view_module": "@jupyter-widgets/base",
            "_view_module_version": "1.2.0",
            "_view_name": "LayoutView",
            "align_content": null,
            "align_items": null,
            "align_self": null,
            "border": null,
            "bottom": null,
            "display": null,
            "flex": null,
            "flex_flow": null,
            "grid_area": null,
            "grid_auto_columns": null,
            "grid_auto_flow": null,
            "grid_auto_rows": null,
            "grid_column": null,
            "grid_gap": null,
            "grid_row": null,
            "grid_template_areas": null,
            "grid_template_columns": null,
            "grid_template_rows": null,
            "height": null,
            "justify_content": null,
            "justify_items": null,
            "left": null,
            "margin": null,
            "max_height": null,
            "max_width": null,
            "min_height": null,
            "min_width": null,
            "object_fit": null,
            "object_position": null,
            "order": null,
            "overflow": null,
            "overflow_x": null,
            "overflow_y": null,
            "padding": null,
            "right": null,
            "top": null,
            "visibility": null,
            "width": null
          }
        },
        "157925bc4a524b3185f2b609b7585e38": {
          "model_module": "@jupyter-widgets/base",
          "model_name": "LayoutModel",
          "model_module_version": "1.2.0",
          "state": {
            "_model_module": "@jupyter-widgets/base",
            "_model_module_version": "1.2.0",
            "_model_name": "LayoutModel",
            "_view_count": null,
            "_view_module": "@jupyter-widgets/base",
            "_view_module_version": "1.2.0",
            "_view_name": "LayoutView",
            "align_content": null,
            "align_items": null,
            "align_self": null,
            "border": null,
            "bottom": null,
            "display": null,
            "flex": null,
            "flex_flow": null,
            "grid_area": null,
            "grid_auto_columns": null,
            "grid_auto_flow": null,
            "grid_auto_rows": null,
            "grid_column": null,
            "grid_gap": null,
            "grid_row": null,
            "grid_template_areas": null,
            "grid_template_columns": null,
            "grid_template_rows": null,
            "height": null,
            "justify_content": null,
            "justify_items": null,
            "left": null,
            "margin": null,
            "max_height": null,
            "max_width": null,
            "min_height": null,
            "min_width": null,
            "object_fit": null,
            "object_position": null,
            "order": null,
            "overflow": null,
            "overflow_x": null,
            "overflow_y": null,
            "padding": null,
            "right": null,
            "top": null,
            "visibility": null,
            "width": null
          }
        },
        "8f4b262e633f4f33b7b4e39800988315": {
          "model_module": "@jupyter-widgets/controls",
          "model_name": "DescriptionStyleModel",
          "model_module_version": "1.5.0",
          "state": {
            "_model_module": "@jupyter-widgets/controls",
            "_model_module_version": "1.5.0",
            "_model_name": "DescriptionStyleModel",
            "_view_count": null,
            "_view_module": "@jupyter-widgets/base",
            "_view_module_version": "1.2.0",
            "_view_name": "StyleView",
            "description_width": ""
          }
        },
        "3faa7b447869487fa475139b34e9798b": {
          "model_module": "@jupyter-widgets/base",
          "model_name": "LayoutModel",
          "model_module_version": "1.2.0",
          "state": {
            "_model_module": "@jupyter-widgets/base",
            "_model_module_version": "1.2.0",
            "_model_name": "LayoutModel",
            "_view_count": null,
            "_view_module": "@jupyter-widgets/base",
            "_view_module_version": "1.2.0",
            "_view_name": "LayoutView",
            "align_content": null,
            "align_items": null,
            "align_self": null,
            "border": null,
            "bottom": null,
            "display": null,
            "flex": null,
            "flex_flow": null,
            "grid_area": null,
            "grid_auto_columns": null,
            "grid_auto_flow": null,
            "grid_auto_rows": null,
            "grid_column": null,
            "grid_gap": null,
            "grid_row": null,
            "grid_template_areas": null,
            "grid_template_columns": null,
            "grid_template_rows": null,
            "height": null,
            "justify_content": null,
            "justify_items": null,
            "left": null,
            "margin": null,
            "max_height": null,
            "max_width": null,
            "min_height": null,
            "min_width": null,
            "object_fit": null,
            "object_position": null,
            "order": null,
            "overflow": null,
            "overflow_x": null,
            "overflow_y": null,
            "padding": null,
            "right": null,
            "top": null,
            "visibility": null,
            "width": null
          }
        },
        "40325291e166415e99d11f8cdb702494": {
          "model_module": "@jupyter-widgets/controls",
          "model_name": "ProgressStyleModel",
          "model_module_version": "1.5.0",
          "state": {
            "_model_module": "@jupyter-widgets/controls",
            "_model_module_version": "1.5.0",
            "_model_name": "ProgressStyleModel",
            "_view_count": null,
            "_view_module": "@jupyter-widgets/base",
            "_view_module_version": "1.2.0",
            "_view_name": "StyleView",
            "bar_color": null,
            "description_width": ""
          }
        },
        "66f0353ce36849538d01bf14d0b5af8e": {
          "model_module": "@jupyter-widgets/base",
          "model_name": "LayoutModel",
          "model_module_version": "1.2.0",
          "state": {
            "_model_module": "@jupyter-widgets/base",
            "_model_module_version": "1.2.0",
            "_model_name": "LayoutModel",
            "_view_count": null,
            "_view_module": "@jupyter-widgets/base",
            "_view_module_version": "1.2.0",
            "_view_name": "LayoutView",
            "align_content": null,
            "align_items": null,
            "align_self": null,
            "border": null,
            "bottom": null,
            "display": null,
            "flex": null,
            "flex_flow": null,
            "grid_area": null,
            "grid_auto_columns": null,
            "grid_auto_flow": null,
            "grid_auto_rows": null,
            "grid_column": null,
            "grid_gap": null,
            "grid_row": null,
            "grid_template_areas": null,
            "grid_template_columns": null,
            "grid_template_rows": null,
            "height": null,
            "justify_content": null,
            "justify_items": null,
            "left": null,
            "margin": null,
            "max_height": null,
            "max_width": null,
            "min_height": null,
            "min_width": null,
            "object_fit": null,
            "object_position": null,
            "order": null,
            "overflow": null,
            "overflow_x": null,
            "overflow_y": null,
            "padding": null,
            "right": null,
            "top": null,
            "visibility": null,
            "width": null
          }
        },
        "4f71e62a5fba49e6a8e346664d0f82e8": {
          "model_module": "@jupyter-widgets/controls",
          "model_name": "DescriptionStyleModel",
          "model_module_version": "1.5.0",
          "state": {
            "_model_module": "@jupyter-widgets/controls",
            "_model_module_version": "1.5.0",
            "_model_name": "DescriptionStyleModel",
            "_view_count": null,
            "_view_module": "@jupyter-widgets/base",
            "_view_module_version": "1.2.0",
            "_view_name": "StyleView",
            "description_width": ""
          }
        },
        "5b47e13799b4448eb114ce0f1bc7d942": {
          "model_module": "@jupyter-widgets/controls",
          "model_name": "HBoxModel",
          "model_module_version": "1.5.0",
          "state": {
            "_dom_classes": [],
            "_model_module": "@jupyter-widgets/controls",
            "_model_module_version": "1.5.0",
            "_model_name": "HBoxModel",
            "_view_count": null,
            "_view_module": "@jupyter-widgets/controls",
            "_view_module_version": "1.5.0",
            "_view_name": "HBoxView",
            "box_style": "",
            "children": [
              "IPY_MODEL_469fdc9e206349e6a50d3926021f2aa5",
              "IPY_MODEL_1698ef9475374edaa47e5539cb9bd346",
              "IPY_MODEL_e721eafebbc54ea39fc487fef25ccef6"
            ],
            "layout": "IPY_MODEL_62dde93ead154d97af4d0acb8faedd59"
          }
        },
        "469fdc9e206349e6a50d3926021f2aa5": {
          "model_module": "@jupyter-widgets/controls",
          "model_name": "HTMLModel",
          "model_module_version": "1.5.0",
          "state": {
            "_dom_classes": [],
            "_model_module": "@jupyter-widgets/controls",
            "_model_module_version": "1.5.0",
            "_model_name": "HTMLModel",
            "_view_count": null,
            "_view_module": "@jupyter-widgets/controls",
            "_view_module_version": "1.5.0",
            "_view_name": "HTMLView",
            "description": "",
            "description_tooltip": null,
            "layout": "IPY_MODEL_7177be63dac94d65be9197b206c92f77",
            "placeholder": "​",
            "style": "IPY_MODEL_a2ddcbe569364a938c40df6163746585",
            "value": "Generating unsupervised split: 100%"
          }
        },
        "1698ef9475374edaa47e5539cb9bd346": {
          "model_module": "@jupyter-widgets/controls",
          "model_name": "FloatProgressModel",
          "model_module_version": "1.5.0",
          "state": {
            "_dom_classes": [],
            "_model_module": "@jupyter-widgets/controls",
            "_model_module_version": "1.5.0",
            "_model_name": "FloatProgressModel",
            "_view_count": null,
            "_view_module": "@jupyter-widgets/controls",
            "_view_module_version": "1.5.0",
            "_view_name": "ProgressView",
            "bar_style": "success",
            "description": "",
            "description_tooltip": null,
            "layout": "IPY_MODEL_212c500d12ad4b569461488bb0f7970d",
            "max": 50000,
            "min": 0,
            "orientation": "horizontal",
            "style": "IPY_MODEL_f3cbe800dc0342dd943df993b3f352c5",
            "value": 50000
          }
        },
        "e721eafebbc54ea39fc487fef25ccef6": {
          "model_module": "@jupyter-widgets/controls",
          "model_name": "HTMLModel",
          "model_module_version": "1.5.0",
          "state": {
            "_dom_classes": [],
            "_model_module": "@jupyter-widgets/controls",
            "_model_module_version": "1.5.0",
            "_model_name": "HTMLModel",
            "_view_count": null,
            "_view_module": "@jupyter-widgets/controls",
            "_view_module_version": "1.5.0",
            "_view_name": "HTMLView",
            "description": "",
            "description_tooltip": null,
            "layout": "IPY_MODEL_3960d3cfaca44a36903d0dad0d138983",
            "placeholder": "​",
            "style": "IPY_MODEL_7461fe4c7cef4bcb95939f0d0395b400",
            "value": " 50000/50000 [00:00&lt;00:00, 164570.10 examples/s]"
          }
        },
        "62dde93ead154d97af4d0acb8faedd59": {
          "model_module": "@jupyter-widgets/base",
          "model_name": "LayoutModel",
          "model_module_version": "1.2.0",
          "state": {
            "_model_module": "@jupyter-widgets/base",
            "_model_module_version": "1.2.0",
            "_model_name": "LayoutModel",
            "_view_count": null,
            "_view_module": "@jupyter-widgets/base",
            "_view_module_version": "1.2.0",
            "_view_name": "LayoutView",
            "align_content": null,
            "align_items": null,
            "align_self": null,
            "border": null,
            "bottom": null,
            "display": null,
            "flex": null,
            "flex_flow": null,
            "grid_area": null,
            "grid_auto_columns": null,
            "grid_auto_flow": null,
            "grid_auto_rows": null,
            "grid_column": null,
            "grid_gap": null,
            "grid_row": null,
            "grid_template_areas": null,
            "grid_template_columns": null,
            "grid_template_rows": null,
            "height": null,
            "justify_content": null,
            "justify_items": null,
            "left": null,
            "margin": null,
            "max_height": null,
            "max_width": null,
            "min_height": null,
            "min_width": null,
            "object_fit": null,
            "object_position": null,
            "order": null,
            "overflow": null,
            "overflow_x": null,
            "overflow_y": null,
            "padding": null,
            "right": null,
            "top": null,
            "visibility": null,
            "width": null
          }
        },
        "7177be63dac94d65be9197b206c92f77": {
          "model_module": "@jupyter-widgets/base",
          "model_name": "LayoutModel",
          "model_module_version": "1.2.0",
          "state": {
            "_model_module": "@jupyter-widgets/base",
            "_model_module_version": "1.2.0",
            "_model_name": "LayoutModel",
            "_view_count": null,
            "_view_module": "@jupyter-widgets/base",
            "_view_module_version": "1.2.0",
            "_view_name": "LayoutView",
            "align_content": null,
            "align_items": null,
            "align_self": null,
            "border": null,
            "bottom": null,
            "display": null,
            "flex": null,
            "flex_flow": null,
            "grid_area": null,
            "grid_auto_columns": null,
            "grid_auto_flow": null,
            "grid_auto_rows": null,
            "grid_column": null,
            "grid_gap": null,
            "grid_row": null,
            "grid_template_areas": null,
            "grid_template_columns": null,
            "grid_template_rows": null,
            "height": null,
            "justify_content": null,
            "justify_items": null,
            "left": null,
            "margin": null,
            "max_height": null,
            "max_width": null,
            "min_height": null,
            "min_width": null,
            "object_fit": null,
            "object_position": null,
            "order": null,
            "overflow": null,
            "overflow_x": null,
            "overflow_y": null,
            "padding": null,
            "right": null,
            "top": null,
            "visibility": null,
            "width": null
          }
        },
        "a2ddcbe569364a938c40df6163746585": {
          "model_module": "@jupyter-widgets/controls",
          "model_name": "DescriptionStyleModel",
          "model_module_version": "1.5.0",
          "state": {
            "_model_module": "@jupyter-widgets/controls",
            "_model_module_version": "1.5.0",
            "_model_name": "DescriptionStyleModel",
            "_view_count": null,
            "_view_module": "@jupyter-widgets/base",
            "_view_module_version": "1.2.0",
            "_view_name": "StyleView",
            "description_width": ""
          }
        },
        "212c500d12ad4b569461488bb0f7970d": {
          "model_module": "@jupyter-widgets/base",
          "model_name": "LayoutModel",
          "model_module_version": "1.2.0",
          "state": {
            "_model_module": "@jupyter-widgets/base",
            "_model_module_version": "1.2.0",
            "_model_name": "LayoutModel",
            "_view_count": null,
            "_view_module": "@jupyter-widgets/base",
            "_view_module_version": "1.2.0",
            "_view_name": "LayoutView",
            "align_content": null,
            "align_items": null,
            "align_self": null,
            "border": null,
            "bottom": null,
            "display": null,
            "flex": null,
            "flex_flow": null,
            "grid_area": null,
            "grid_auto_columns": null,
            "grid_auto_flow": null,
            "grid_auto_rows": null,
            "grid_column": null,
            "grid_gap": null,
            "grid_row": null,
            "grid_template_areas": null,
            "grid_template_columns": null,
            "grid_template_rows": null,
            "height": null,
            "justify_content": null,
            "justify_items": null,
            "left": null,
            "margin": null,
            "max_height": null,
            "max_width": null,
            "min_height": null,
            "min_width": null,
            "object_fit": null,
            "object_position": null,
            "order": null,
            "overflow": null,
            "overflow_x": null,
            "overflow_y": null,
            "padding": null,
            "right": null,
            "top": null,
            "visibility": null,
            "width": null
          }
        },
        "f3cbe800dc0342dd943df993b3f352c5": {
          "model_module": "@jupyter-widgets/controls",
          "model_name": "ProgressStyleModel",
          "model_module_version": "1.5.0",
          "state": {
            "_model_module": "@jupyter-widgets/controls",
            "_model_module_version": "1.5.0",
            "_model_name": "ProgressStyleModel",
            "_view_count": null,
            "_view_module": "@jupyter-widgets/base",
            "_view_module_version": "1.2.0",
            "_view_name": "StyleView",
            "bar_color": null,
            "description_width": ""
          }
        },
        "3960d3cfaca44a36903d0dad0d138983": {
          "model_module": "@jupyter-widgets/base",
          "model_name": "LayoutModel",
          "model_module_version": "1.2.0",
          "state": {
            "_model_module": "@jupyter-widgets/base",
            "_model_module_version": "1.2.0",
            "_model_name": "LayoutModel",
            "_view_count": null,
            "_view_module": "@jupyter-widgets/base",
            "_view_module_version": "1.2.0",
            "_view_name": "LayoutView",
            "align_content": null,
            "align_items": null,
            "align_self": null,
            "border": null,
            "bottom": null,
            "display": null,
            "flex": null,
            "flex_flow": null,
            "grid_area": null,
            "grid_auto_columns": null,
            "grid_auto_flow": null,
            "grid_auto_rows": null,
            "grid_column": null,
            "grid_gap": null,
            "grid_row": null,
            "grid_template_areas": null,
            "grid_template_columns": null,
            "grid_template_rows": null,
            "height": null,
            "justify_content": null,
            "justify_items": null,
            "left": null,
            "margin": null,
            "max_height": null,
            "max_width": null,
            "min_height": null,
            "min_width": null,
            "object_fit": null,
            "object_position": null,
            "order": null,
            "overflow": null,
            "overflow_x": null,
            "overflow_y": null,
            "padding": null,
            "right": null,
            "top": null,
            "visibility": null,
            "width": null
          }
        },
        "7461fe4c7cef4bcb95939f0d0395b400": {
          "model_module": "@jupyter-widgets/controls",
          "model_name": "DescriptionStyleModel",
          "model_module_version": "1.5.0",
          "state": {
            "_model_module": "@jupyter-widgets/controls",
            "_model_module_version": "1.5.0",
            "_model_name": "DescriptionStyleModel",
            "_view_count": null,
            "_view_module": "@jupyter-widgets/base",
            "_view_module_version": "1.2.0",
            "_view_name": "StyleView",
            "description_width": ""
          }
        }
      }
    }
  },
  "cells": [
    {
      "cell_type": "markdown",
      "metadata": {
        "id": "view-in-github",
        "colab_type": "text"
      },
      "source": [
        "<a href=\"https://colab.research.google.com/github/Hend-Khaled-Aly/ITI_NLP/blob/main/LSTM.ipynb\" target=\"_parent\"><img src=\"https://colab.research.google.com/assets/colab-badge.svg\" alt=\"Open In Colab\"/></a>"
      ]
    },
    {
      "cell_type": "code",
      "source": [
        "import torch\n",
        "import torch.nn as nn\n",
        "import torch.optim as optim\n",
        "from torch.utils.data import Dataset, DataLoader\n",
        "import numpy as np\n",
        "import pandas as pd\n",
        "import matplotlib.pyplot as plt\n",
        "from sklearn.model_selection import train_test_split\n",
        "from tqdm import tqdm\n",
        "from collections import Counter\n",
        "import re\n",
        "import nltk\n",
        "from nltk.tokenize import word_tokenize\n",
        "nltk.download('punkt')\n",
        "nltk.download('punkt_tab')\n",
        "from datasets import load_dataset"
      ],
      "metadata": {
        "colab": {
          "base_uri": "https://localhost:8080/"
        },
        "id": "18o7LljyEBEu",
        "outputId": "97c7d397-36b8-42f3-d8e6-9d81ab8bd48e"
      },
      "execution_count": 1,
      "outputs": [
        {
          "output_type": "stream",
          "name": "stderr",
          "text": [
            "[nltk_data] Downloading package punkt to /root/nltk_data...\n",
            "[nltk_data]   Package punkt is already up-to-date!\n",
            "[nltk_data] Downloading package punkt_tab to /root/nltk_data...\n",
            "[nltk_data]   Package punkt_tab is already up-to-date!\n"
          ]
        }
      ]
    },
    {
      "cell_type": "code",
      "execution_count": 2,
      "metadata": {
        "id": "2sVt4SQx6C8P"
      },
      "outputs": [],
      "source": [
        "torch.manual_seed(42)\n",
        "np.random.seed(42)"
      ]
    },
    {
      "cell_type": "code",
      "source": [
        "dataset = load_dataset(\"imdb\")\n",
        "\n",
        "train_data = dataset[\"train\"]\n",
        "test_data = dataset[\"test\"]\n",
        "\n",
        "print(f\"Training: {len(train_data)}\")\n",
        "print(f\"review: {train_data[0]['text'][:100]}...\")\n",
        "print(f\"label: {train_data[0]['label']}\")\n"
      ],
      "metadata": {
        "colab": {
          "base_uri": "https://localhost:8080/",
          "height": 417,
          "referenced_widgets": [
            "40126430caf141079f407210f1e548e9",
            "28f25ca204f74f838469e30d0cbe926e",
            "202dbee416e54741894313279c4f7314",
            "0bd5bf76c0c64c6da426cdcaebfaf023",
            "74b67e8ffc1c4f22b7ddcb7bec4aaedc",
            "ade08803fac042048d8da1899598873c",
            "da0169afc43743c4bde8b7ca799122c2",
            "fcf6ed10b4a44610aa67240075ad3463",
            "c7a3d8f51d184b34ac71cea3dcd2542f",
            "37061b400b2d44e6b0cc055b2ef90c6f",
            "f95006361cbc44b1bfbc933073cf7c00",
            "c340872f30fc4faab1bd13602aded081",
            "31c5d7cc88584b4fabb6436735758d34",
            "828e1454fd434b358e2870d76d8f2d21",
            "6e30912c2fe04bfdb805b4a3dae821b0",
            "a7e8c9eda544437f8b821364c367018f",
            "eec93a8ee5a84c8b924e4ac35fb6d61a",
            "73d235c71e8645298e178e180a9eb2a8",
            "4c6498d430a24c279e549098742592a0",
            "a26d696c4eee476daa5151fd9bda5b94",
            "8e409b3e4ef0472089efbb53da9093c5",
            "04507ca44c144957af060397fc96a4a6",
            "3f505edffdc642808913e12b3072bf58",
            "a7b23d7bfc5040af87927e9196afd930",
            "185154c383a2447ba97b30372c07f6b6",
            "4f764555c2e341059de12b9c9818a441",
            "1a2c3061b44549029374070a40fb42d1",
            "1eb522f3f7964a7aa3fee7fafea3781f",
            "b51a4fcada104710af0223953731d372",
            "593821cd5e5b434fb130a89dfd8a863c",
            "167fbd341272411da1645c5b0dd55eaa",
            "e55971d676d1431ab78e6e2c4b99a2c4",
            "01be32d1fcc141e8b4320890079a0c94",
            "ec59684ee166481ea7cc6eab003dc39f",
            "f47aa887f7e14f94bdda2e6022efae5b",
            "a03fc52b84a6418e9348fe8564106fd6",
            "bf022936765b4b278ed85eac14a813e7",
            "ad251c0088454eb8bfd2c70a14ea43dc",
            "97d7b4ddba4e4b6c84ab8b10b50b5e8e",
            "bd29947896204bdf8d2b3c5e59248720",
            "8abb13bfc6f04f75bad7d0f4ab0e4a35",
            "28d33794687b4207aef9c07309fca7ae",
            "f8bbd6ec9f974e898dcf440f6e361380",
            "7ab22bd3851f4431a6c75028572e4996",
            "fae840f1d8df4367a4833d02040d0082",
            "e677a63df3644f378fe2cc335ed862db",
            "cc08cd09a1cc4edfaf711f8991fb96c2",
            "3df2bd6f67fd4ea1bcc441cc16102f8e",
            "e4fdee59222e4db197bc57df41bb7931",
            "42a565e3315d40bd9b9aabec46a2197d",
            "355e8bf08c97433e9201f913afd67326",
            "9ecc95c55e814fd98a6f2c0aaf1d50b6",
            "b2b136fb9b15453da1f0c43c9235f10a",
            "668f8c5ab6884fb0ad479123a966fbf0",
            "9cb405a6ec1240afb8f22e924b7fe2c9",
            "0da4abad97ac48bfa130acf3f5c21d6f",
            "f3394049299544cd83c521164899e62b",
            "58adc008fc00498fb6b5347166ed1f02",
            "6f58f632f10a4ad0ad9390969320c6db",
            "0e5d846e7fb84e66b3c2555bb253ff11",
            "157925bc4a524b3185f2b609b7585e38",
            "8f4b262e633f4f33b7b4e39800988315",
            "3faa7b447869487fa475139b34e9798b",
            "40325291e166415e99d11f8cdb702494",
            "66f0353ce36849538d01bf14d0b5af8e",
            "4f71e62a5fba49e6a8e346664d0f82e8",
            "5b47e13799b4448eb114ce0f1bc7d942",
            "469fdc9e206349e6a50d3926021f2aa5",
            "1698ef9475374edaa47e5539cb9bd346",
            "e721eafebbc54ea39fc487fef25ccef6",
            "62dde93ead154d97af4d0acb8faedd59",
            "7177be63dac94d65be9197b206c92f77",
            "a2ddcbe569364a938c40df6163746585",
            "212c500d12ad4b569461488bb0f7970d",
            "f3cbe800dc0342dd943df993b3f352c5",
            "3960d3cfaca44a36903d0dad0d138983",
            "7461fe4c7cef4bcb95939f0d0395b400"
          ]
        },
        "id": "DtJKhSc-EEhd",
        "outputId": "ca6d39a0-57f7-4b03-aadd-5d7d01df5518"
      },
      "execution_count": 3,
      "outputs": [
        {
          "output_type": "stream",
          "name": "stderr",
          "text": [
            "/usr/local/lib/python3.11/dist-packages/huggingface_hub/utils/_auth.py:94: UserWarning: \n",
            "The secret `HF_TOKEN` does not exist in your Colab secrets.\n",
            "To authenticate with the Hugging Face Hub, create a token in your settings tab (https://huggingface.co/settings/tokens), set it as secret in your Google Colab and restart your session.\n",
            "You will be able to reuse this secret in all of your notebooks.\n",
            "Please note that authentication is recommended but still optional to access public models or datasets.\n",
            "  warnings.warn(\n"
          ]
        },
        {
          "output_type": "display_data",
          "data": {
            "text/plain": [
              "README.md:   0%|          | 0.00/7.81k [00:00<?, ?B/s]"
            ],
            "application/vnd.jupyter.widget-view+json": {
              "version_major": 2,
              "version_minor": 0,
              "model_id": "40126430caf141079f407210f1e548e9"
            }
          },
          "metadata": {}
        },
        {
          "output_type": "display_data",
          "data": {
            "text/plain": [
              "train-00000-of-00001.parquet:   0%|          | 0.00/21.0M [00:00<?, ?B/s]"
            ],
            "application/vnd.jupyter.widget-view+json": {
              "version_major": 2,
              "version_minor": 0,
              "model_id": "c340872f30fc4faab1bd13602aded081"
            }
          },
          "metadata": {}
        },
        {
          "output_type": "display_data",
          "data": {
            "text/plain": [
              "test-00000-of-00001.parquet:   0%|          | 0.00/20.5M [00:00<?, ?B/s]"
            ],
            "application/vnd.jupyter.widget-view+json": {
              "version_major": 2,
              "version_minor": 0,
              "model_id": "3f505edffdc642808913e12b3072bf58"
            }
          },
          "metadata": {}
        },
        {
          "output_type": "display_data",
          "data": {
            "text/plain": [
              "unsupervised-00000-of-00001.parquet:   0%|          | 0.00/42.0M [00:00<?, ?B/s]"
            ],
            "application/vnd.jupyter.widget-view+json": {
              "version_major": 2,
              "version_minor": 0,
              "model_id": "ec59684ee166481ea7cc6eab003dc39f"
            }
          },
          "metadata": {}
        },
        {
          "output_type": "display_data",
          "data": {
            "text/plain": [
              "Generating train split:   0%|          | 0/25000 [00:00<?, ? examples/s]"
            ],
            "application/vnd.jupyter.widget-view+json": {
              "version_major": 2,
              "version_minor": 0,
              "model_id": "fae840f1d8df4367a4833d02040d0082"
            }
          },
          "metadata": {}
        },
        {
          "output_type": "display_data",
          "data": {
            "text/plain": [
              "Generating test split:   0%|          | 0/25000 [00:00<?, ? examples/s]"
            ],
            "application/vnd.jupyter.widget-view+json": {
              "version_major": 2,
              "version_minor": 0,
              "model_id": "0da4abad97ac48bfa130acf3f5c21d6f"
            }
          },
          "metadata": {}
        },
        {
          "output_type": "display_data",
          "data": {
            "text/plain": [
              "Generating unsupervised split:   0%|          | 0/50000 [00:00<?, ? examples/s]"
            ],
            "application/vnd.jupyter.widget-view+json": {
              "version_major": 2,
              "version_minor": 0,
              "model_id": "5b47e13799b4448eb114ce0f1bc7d942"
            }
          },
          "metadata": {}
        },
        {
          "output_type": "stream",
          "name": "stdout",
          "text": [
            "Training: 25000\n",
            "review: I rented I AM CURIOUS-YELLOW from my video store because of all the controversy that surrounded it w...\n",
            "label: 0\n"
          ]
        }
      ]
    },
    {
      "cell_type": "code",
      "source": [
        "def preprocess_text(text):\n",
        "    text = text.lower()\n",
        "    text = re.sub(r'<.*?>', '', text)\n",
        "    text = re.sub(r'[^a-zA-Z\\s]', '', text)\n",
        "    tokens = word_tokenize(text)\n",
        "    return tokens\n",
        "\n",
        "train_reviews = []\n",
        "train_labels = []\n",
        "\n",
        "for sample in tqdm(train_data):\n",
        "    label_int = sample['label']\n",
        "    train_labels.append(label_int)\n",
        "    tokens = preprocess_text(sample['text'])\n",
        "    train_reviews.append(tokens)\n",
        "\n",
        "test_reviews = []\n",
        "test_labels = []\n",
        "\n",
        "for sample in tqdm(test_data):\n",
        "    label_int = sample['label']\n",
        "    test_labels.append(label_int)\n",
        "    tokens = preprocess_text(sample['text'])\n",
        "    test_reviews.append(tokens)\n",
        "\n",
        "print(f\"Example tokenized review: {train_reviews[0][:15]}...\")\n",
        "print(f\"Example tokenized label: {train_labels[0]}...\")\n"
      ],
      "metadata": {
        "colab": {
          "base_uri": "https://localhost:8080/"
        },
        "id": "msu9Xw57ERAB",
        "outputId": "64b15069-799e-44ff-9c85-a68d310fa260"
      },
      "execution_count": 4,
      "outputs": [
        {
          "output_type": "stream",
          "name": "stderr",
          "text": [
            "100%|██████████| 25000/25000 [00:18<00:00, 1369.63it/s]\n",
            "100%|██████████| 25000/25000 [00:20<00:00, 1241.80it/s]"
          ]
        },
        {
          "output_type": "stream",
          "name": "stdout",
          "text": [
            "Example tokenized review: ['i', 'rented', 'i', 'am', 'curiousyellow', 'from', 'my', 'video', 'store', 'because', 'of', 'all', 'the', 'controversy', 'that']...\n",
            "Example tokenized label: 0...\n"
          ]
        },
        {
          "output_type": "stream",
          "name": "stderr",
          "text": [
            "\n"
          ]
        }
      ]
    },
    {
      "cell_type": "code",
      "source": [
        "def build_vocab(reviews, max_words=10000):\n",
        "    word_count = Counter()\n",
        "    for review in reviews:\n",
        "        word_count.update(review)\n",
        "\n",
        "    most_common = word_count.most_common(max_words - 2)\n",
        "    vocab = {word: idx+2 for idx, (word, _) in enumerate(most_common)}\n",
        "\n",
        "    vocab['<PAD>'] = 0\n",
        "    vocab['<UNK>'] = 1\n",
        "\n",
        "    return vocab\n"
      ],
      "metadata": {
        "id": "2BRV5c-qEr14"
      },
      "execution_count": 6,
      "outputs": []
    },
    {
      "cell_type": "code",
      "source": [
        "vocab = build_vocab(train_reviews)\n",
        "vocab_size = len(vocab)\n",
        "\n",
        "print(f\"Vocabulary created with {vocab_size} words!\")\n",
        "print(f\"Sample words: {list(vocab.items())[:10]}\")\n",
        "\n",
        "idx_to_word = {idx: word for word, idx in vocab.items()}\n"
      ],
      "metadata": {
        "colab": {
          "base_uri": "https://localhost:8080/"
        },
        "id": "op2jeZzIE_lB",
        "outputId": "cbb6eb24-5c1a-4641-a45e-5bc302480ff3"
      },
      "execution_count": 7,
      "outputs": [
        {
          "output_type": "stream",
          "name": "stdout",
          "text": [
            "Vocabulary created with 10000 words!\n",
            "Sample words: [('the', 2), ('and', 3), ('a', 4), ('of', 5), ('to', 6), ('is', 7), ('in', 8), ('it', 9), ('this', 10), ('i', 11)]\n"
          ]
        }
      ]
    },
    {
      "cell_type": "code",
      "source": [
        "review_lengths = [len(review) for review in train_reviews]\n",
        "max_review_length = max(review_lengths)\n",
        "mean_length = np.mean(review_lengths)\n",
        "median_length = np.median(review_lengths)\n",
        "p95_length = np.percentile(review_lengths, 95)\n",
        "\n",
        "print(f\"Maximum review length: {max_review_length}\")\n",
        "print(f\"Mean review length: {mean_length:.2f}\")\n",
        "print(f\"Median review length: {median_length}\")\n",
        "print(f\"95th percentile length: {p95_length}\")"
      ],
      "metadata": {
        "colab": {
          "base_uri": "https://localhost:8080/"
        },
        "id": "v5ZkzNL1FJ5w",
        "outputId": "11fc4629-d744-428e-b22d-dc0fa42c1844"
      },
      "execution_count": 8,
      "outputs": [
        {
          "output_type": "stream",
          "name": "stdout",
          "text": [
            "Maximum review length: 2441\n",
            "Mean review length: 227.81\n",
            "Median review length: 170.0\n",
            "95th percentile length: 583.0\n"
          ]
        }
      ]
    },
    {
      "cell_type": "code",
      "source": [
        "plt.figure(figsize=(10, 6))\n",
        "plt.hist(review_lengths, bins=50)\n",
        "plt.axvline(x=max_review_length, color='r', linestyle='--', label=f'Max: {max_review_length}')\n",
        "plt.axvline(x=p95_length, color='g', linestyle='--', label=f'95th: {p95_length:.0f}')\n",
        "plt.axvline(x=median_length, color='b', linestyle='--', label=f'Median: {median_length}')\n",
        "plt.title(\"Distribution of Review Lengths\")\n",
        "plt.xlabel(\"Length (number of tokens)\")\n",
        "plt.ylabel(\"Count\")\n",
        "plt.legend()\n",
        "plt.grid(True, alpha=0.3)\n",
        "plt.show()"
      ],
      "metadata": {
        "colab": {
          "base_uri": "https://localhost:8080/",
          "height": 564
        },
        "id": "xOywxptmFNrW",
        "outputId": "28ef3e85-2ead-42e8-c1b6-8a14472d56f6"
      },
      "execution_count": 9,
      "outputs": [
        {
          "output_type": "display_data",
          "data": {
            "text/plain": [
              "<Figure size 1000x600 with 1 Axes>"
            ],
            "image/png": "[encoded data removed]"
          },
          "metadata": {}
        }
      ]
    },
    {
      "cell_type": "code",
      "source": [
        "chosen_max_len = int(p95_length)\n",
        "print(f\"Chosen max_len: {chosen_max_len}\")\n",
        "\n",
        "def encode_review(review, vocab, max_len=None):\n",
        "    if max_len is None:\n",
        "        max_len = chosen_max_len\n",
        "\n",
        "    encoded = [vocab.get(word, vocab['<UNK>']) for word in review[:max_len]]\n",
        "\n",
        "    if len(encoded) < max_len:\n",
        "        encoded += [vocab['<PAD>']] * (max_len - len(encoded))\n",
        "\n",
        "    return encoded"
      ],
      "metadata": {
        "colab": {
          "base_uri": "https://localhost:8080/"
        },
        "id": "vFjz39d4FVY9",
        "outputId": "d74fc0f6-28e0-4a32-9ec4-ab3d8dcc1fe3"
      },
      "execution_count": 10,
      "outputs": [
        {
          "output_type": "stream",
          "name": "stdout",
          "text": [
            "Chosen max_len: 583\n"
          ]
        }
      ]
    },
    {
      "cell_type": "code",
      "source": [
        "train_encoded = [encode_review(review, vocab) for review in tqdm(train_reviews)]\n",
        "test_encoded = [encode_review(review, vocab) for review in tqdm(test_reviews)]\n",
        "\n",
        "train_sequences = torch.tensor(train_encoded, dtype=torch.long)\n",
        "train_labels_tensor = torch.tensor(train_labels, dtype=torch.float)\n",
        "test_sequences = torch.tensor(test_encoded, dtype=torch.long)\n",
        "test_labels_tensor = torch.tensor(test_labels, dtype=torch.float)\n",
        "\n",
        "print(f\"Data encoding complete! Example sequence: {train_sequences[0][:15]}...\")\n",
        "print(f\"All sequences are now of length {chosen_max_len}\")\n",
        "\n",
        "truncated_count = sum(1 for length in review_lengths if length > chosen_max_len)\n",
        "truncated_percentage = (truncated_count / len(review_lengths)) * 100\n",
        "print(f\"Reviews truncated: {truncated_count} ({truncated_percentage:.2f}%)\")\n"
      ],
      "metadata": {
        "colab": {
          "base_uri": "https://localhost:8080/"
        },
        "id": "KxlOSenRFDLa",
        "outputId": "f484c68e-afdb-4f9f-ef03-74dd1555fafa"
      },
      "execution_count": 11,
      "outputs": [
        {
          "output_type": "stream",
          "name": "stderr",
          "text": [
            "100%|██████████| 25000/25000 [00:01<00:00, 15980.25it/s]\n",
            "100%|██████████| 25000/25000 [00:02<00:00, 8708.91it/s] \n"
          ]
        },
        {
          "output_type": "stream",
          "name": "stdout",
          "text": [
            "Data encoding complete! Example sequence: tensor([  11, 1511,   11,  237,    1,   36,   59,  390, 1132,   78,    5,   31,\n",
            "           2, 6947,   12])...\n",
            "All sequences are now of length 583\n",
            "Reviews truncated: 1245 (4.98%)\n"
          ]
        }
      ]
    },
    {
      "cell_type": "code",
      "source": [
        "def encode_review(review, vocab, max_len=200):\n",
        "    encoded = [vocab.get(word, vocab['<UNK>']) for word in review[:max_len]]\n",
        "\n",
        "    if len(encoded) < max_len:\n",
        "        encoded += [vocab['<PAD>']] * (max_len - len(encoded))\n",
        "\n",
        "    return encoded\n"
      ],
      "metadata": {
        "id": "pmdyvRVsFX_P"
      },
      "execution_count": 12,
      "outputs": []
    },
    {
      "cell_type": "code",
      "source": [
        "train_encoded = [encode_review(review, vocab) for review in tqdm(train_reviews)]\n",
        "test_encoded = [encode_review(review, vocab) for review in tqdm(test_reviews)]\n",
        "\n",
        "train_sequences = torch.tensor(train_encoded, dtype=torch.long)\n",
        "train_labels_tensor = torch.tensor(train_labels, dtype=torch.float)\n",
        "test_sequences = torch.tensor(test_encoded, dtype=torch.long)\n",
        "test_labels_tensor = torch.tensor(test_labels, dtype=torch.float)\n",
        "\n",
        "print(f\"Data encoding complete! Example sequence: {train_sequences[0][:15]}...\")\n"
      ],
      "metadata": {
        "colab": {
          "base_uri": "https://localhost:8080/"
        },
        "id": "V9yw5Ql2FdgJ",
        "outputId": "eecca66e-99ad-443e-ba55-e319da754e99"
      },
      "execution_count": 13,
      "outputs": [
        {
          "output_type": "stream",
          "name": "stderr",
          "text": [
            "100%|██████████| 25000/25000 [00:00<00:00, 25931.15it/s]\n",
            "100%|██████████| 25000/25000 [00:01<00:00, 14055.94it/s]\n"
          ]
        },
        {
          "output_type": "stream",
          "name": "stdout",
          "text": [
            "Data encoding complete! Example sequence: tensor([  11, 1511,   11,  237,    1,   36,   59,  390, 1132,   78,    5,   31,\n",
            "           2, 6947,   12])...\n"
          ]
        }
      ]
    },
    {
      "cell_type": "code",
      "source": [
        "class IMDbDataset(Dataset):\n",
        "    def __init__(self, sequences, labels):\n",
        "        self.sequences = sequences\n",
        "        self.labels = labels\n",
        "\n",
        "    def __len__(self):\n",
        "        return len(self.sequences)\n",
        "\n",
        "    def __getitem__(self, idx):\n",
        "        return self.sequences[idx], self.labels[idx]"
      ],
      "metadata": {
        "id": "yX7aBhzCFe88"
      },
      "execution_count": 14,
      "outputs": []
    },
    {
      "cell_type": "code",
      "source": [
        "train_seq, val_seq, train_labels, val_labels = train_test_split(\n",
        "    train_sequences, train_labels_tensor, test_size=0.1, random_state=42\n",
        ")\n",
        "\n",
        "train_dataset = IMDbDataset(train_seq, train_labels)\n",
        "val_dataset = IMDbDataset(val_seq, val_labels)\n",
        "test_dataset = IMDbDataset(test_sequences, test_labels_tensor)\n",
        "\n",
        "batch_size = 64\n",
        "train_loader = DataLoader(train_dataset, batch_size=batch_size, shuffle=True)\n",
        "val_loader = DataLoader(val_dataset, batch_size=batch_size)\n",
        "test_loader = DataLoader(test_dataset, batch_size=batch_size)\n",
        "\n",
        "print(f\"DataLoaders created! Training batches: {len(train_loader)}\")\n"
      ],
      "metadata": {
        "colab": {
          "base_uri": "https://localhost:8080/"
        },
        "id": "SrUek9IZFjtQ",
        "outputId": "0f4f314c-daf1-42b7-e6b8-df5ffb7a4a74"
      },
      "execution_count": 15,
      "outputs": [
        {
          "output_type": "stream",
          "name": "stdout",
          "text": [
            "DataLoaders created! Training batches: 352\n"
          ]
        }
      ]
    },
    {
      "cell_type": "code",
      "source": [
        "class SentimentLSTM(nn.Module):\n",
        "    def __init__(self, vocab_size, embedding_dim, hidden_dim, output_dim, n_layers=1, dropout=0.5):\n",
        "        super().__init__()\n",
        "\n",
        "        self.embedding = nn.Embedding(vocab_size, embedding_dim, padding_idx=0)\n",
        "\n",
        "        self.lstm = nn.LSTM(embedding_dim,\n",
        "                        hidden_dim,\n",
        "                        num_layers=n_layers,\n",
        "                        bidirectional=False,\n",
        "                        dropout=dropout if n_layers > 1 else 0,\n",
        "                        batch_first=True)\n",
        "\n",
        "        self.dropout = nn.Dropout(dropout)\n",
        "\n",
        "        self.fc = nn.Linear(hidden_dim, output_dim)\n",
        "\n",
        "    def forward(self, text):\n",
        "        embedded = self.embedding(text)\n",
        "\n",
        "        lstm_out, (hidden, cell) = self.lstm(embedded)\n",
        "\n",
        "        hidden = self.dropout(hidden[-1, :, :])\n",
        "        return self.fc(hidden)\n"
      ],
      "metadata": {
        "id": "yjNBf-PHFlM-"
      },
      "execution_count": 16,
      "outputs": []
    },
    {
      "cell_type": "code",
      "source": [
        "embedding_dim = 100\n",
        "hidden_dim = 256\n",
        "output_dim = 1\n",
        "n_layers = 2\n",
        "\n",
        "model = SentimentLSTM(\n",
        "    vocab_size=vocab_size,\n",
        "    embedding_dim=embedding_dim,\n",
        "    hidden_dim=hidden_dim,\n",
        "    output_dim=output_dim,\n",
        "    n_layers=n_layers\n",
        ")\n",
        "\n",
        "device = torch.device('cuda' if torch.cuda.is_available() else 'cpu')\n",
        "model = model.to(device)\n",
        "print(f\"Model created and moved to {device}!\")\n",
        "print(model)"
      ],
      "metadata": {
        "colab": {
          "base_uri": "https://localhost:8080/"
        },
        "id": "bAY6Mz9aFyRz",
        "outputId": "c6ae991b-9ea5-4348-f675-31f6fe9e6b01"
      },
      "execution_count": 17,
      "outputs": [
        {
          "output_type": "stream",
          "name": "stdout",
          "text": [
            "Model created and moved to cuda!\n",
            "SentimentLSTM(\n",
            "  (embedding): Embedding(10000, 100, padding_idx=0)\n",
            "  (lstm): LSTM(100, 256, num_layers=2, batch_first=True, dropout=0.5)\n",
            "  (dropout): Dropout(p=0.5, inplace=False)\n",
            "  (fc): Linear(in_features=256, out_features=1, bias=True)\n",
            ")\n"
          ]
        }
      ]
    },
    {
      "cell_type": "code",
      "source": [
        "criterion = nn.BCEWithLogitsLoss()\n",
        "optimizer = optim.Adam(model.parameters(), lr=0.001)"
      ],
      "metadata": {
        "id": "9jyv4HQjFz4y"
      },
      "execution_count": 18,
      "outputs": []
    },
    {
      "cell_type": "code",
      "source": [
        "def train(model, iterator, optimizer, criterion):\n",
        "    model.train()\n",
        "    epoch_loss = 0\n",
        "    epoch_acc = 0\n",
        "\n",
        "    for batch in tqdm(iterator, desc=\"Training\"):\n",
        "        text, labels = batch\n",
        "        text, labels = text.to(device), labels.float().to(device)\n",
        "        optimizer.zero_grad()\n",
        "        predictions = model(text).squeeze(1)\n",
        "        loss = criterion(predictions, labels)\n",
        "        predicted_classes = torch.round(torch.sigmoid(predictions))\n",
        "        correct = (predicted_classes == labels).float()\n",
        "        accuracy = correct.sum() / len(correct)\n",
        "        loss.backward()\n",
        "        optimizer.step()\n",
        "        epoch_loss += loss.item()\n",
        "        epoch_acc += accuracy.item()\n",
        "\n",
        "    return epoch_loss / len(iterator), epoch_acc / len(iterator)\n"
      ],
      "metadata": {
        "id": "_YbkaCu1F2US"
      },
      "execution_count": 19,
      "outputs": []
    },
    {
      "cell_type": "code",
      "source": [
        "def evaluate(model, iterator, criterion):\n",
        "    model.eval()\n",
        "    epoch_loss = 0\n",
        "    epoch_acc = 0\n",
        "\n",
        "    with torch.no_grad():\n",
        "        for batch in tqdm(iterator, desc=\"Evaluating\"):\n",
        "            text, labels = batch\n",
        "            text, labels = text.to(device), labels.float().to(device)\n",
        "\n",
        "            predictions = model(text).squeeze(1)\n",
        "            loss = criterion(predictions, labels)\n",
        "            predicted_classes = torch.round(torch.sigmoid(predictions))\n",
        "            correct = (predicted_classes == labels).float()\n",
        "            accuracy = correct.sum() / len(correct)\n",
        "            epoch_loss += loss.item()\n",
        "            epoch_acc += accuracy.item()\n",
        "    return epoch_loss / len(iterator), epoch_acc / len(iterator)\n"
      ],
      "metadata": {
        "id": "o-2tTflqGFUG"
      },
      "execution_count": 20,
      "outputs": []
    },
    {
      "cell_type": "code",
      "source": [
        "n_epochs = 2\n",
        "train_losses = []\n",
        "train_accs = []\n",
        "val_losses = []\n",
        "val_accs = []\n",
        "\n",
        "for epoch in range(n_epochs):\n",
        "    print(f\"\\nEpoch {epoch+1}/{n_epochs}\")\n",
        "    print(\"-\" * 20)\n",
        "\n",
        "    train_loss, train_acc = train(model, train_loader, optimizer, criterion)\n",
        "    train_losses.append(train_loss)\n",
        "    train_accs.append(train_acc)\n",
        "\n",
        "    val_loss, val_acc = evaluate(model, val_loader, criterion)\n",
        "    val_losses.append(val_loss)\n",
        "    val_accs.append(val_acc)\n",
        "\n",
        "    print(f\"Train Loss: {train_loss:.4f} | Train Acc: {train_acc*100:.2f}%\")\n",
        "    print(f\"Val Loss: {val_loss:.4f} | Val Acc: {val_acc*100:.2f}%\")\n",
        "\n",
        "print(\"\\nTraining complete!\")"
      ],
      "metadata": {
        "colab": {
          "base_uri": "https://localhost:8080/"
        },
        "id": "tuYPn3_kGSe2",
        "outputId": "2044c697-ea47-41e8-c30f-29619ccf3a67"
      },
      "execution_count": 21,
      "outputs": [
        {
          "output_type": "stream",
          "name": "stdout",
          "text": [
            "\n",
            "Epoch 1/2\n",
            "--------------------\n"
          ]
        },
        {
          "output_type": "stream",
          "name": "stderr",
          "text": [
            "Training: 100%|██████████| 352/352 [00:14<00:00, 24.39it/s]\n",
            "Evaluating: 100%|██████████| 40/40 [00:00<00:00, 83.76it/s]\n"
          ]
        },
        {
          "output_type": "stream",
          "name": "stdout",
          "text": [
            "Train Loss: 0.6933 | Train Acc: 50.82%\n",
            "Val Loss: 0.6944 | Val Acc: 48.79%\n",
            "\n",
            "Epoch 2/2\n",
            "--------------------\n"
          ]
        },
        {
          "output_type": "stream",
          "name": "stderr",
          "text": [
            "Training: 100%|██████████| 352/352 [00:11<00:00, 31.12it/s]\n",
            "Evaluating: 100%|██████████| 40/40 [00:00<00:00, 81.57it/s]"
          ]
        },
        {
          "output_type": "stream",
          "name": "stdout",
          "text": [
            "Train Loss: 0.6930 | Train Acc: 51.51%\n",
            "Val Loss: 0.6807 | Val Acc: 58.32%\n",
            "\n",
            "Training complete!\n"
          ]
        },
        {
          "output_type": "stream",
          "name": "stderr",
          "text": [
            "\n"
          ]
        }
      ]
    },
    {
      "cell_type": "code",
      "source": [
        "plt.figure(figsize=(12, 5))\n",
        "\n",
        "plt.subplot(1, 2, 1)\n",
        "plt.plot(train_losses, label='Train Loss')\n",
        "plt.plot(val_losses, label='Val Loss')\n",
        "plt.xlabel('Epoch')\n",
        "plt.ylabel('Loss')\n",
        "plt.title('Training and Validation Loss')\n",
        "plt.legend()\n",
        "\n",
        "plt.subplot(1, 2, 2)\n",
        "plt.plot(train_accs, label='Train Acc')\n",
        "plt.plot(val_accs, label='Val Acc')\n",
        "plt.xlabel('Epoch')\n",
        "plt.ylabel('Accuracy')\n",
        "plt.title('Training and Validation Accuracy')\n",
        "plt.legend()\n",
        "\n",
        "plt.tight_layout()\n",
        "plt.show()\n"
      ],
      "metadata": {
        "colab": {
          "base_uri": "https://localhost:8080/",
          "height": 507
        },
        "id": "eQDe38M6GW9z",
        "outputId": "b6f33b1b-5b82-4138-f8d7-6ad172504587"
      },
      "execution_count": 22,
      "outputs": [
        {
          "output_type": "display_data",
          "data": {
            "text/plain": [
              "<Figure size 1200x500 with 2 Axes>"
            ],
            "image/png": "[encoded data removed]"
          },
          "metadata": {}
        }
      ]
    },
    {
      "cell_type": "code",
      "source": [
        "test_loss, test_acc = evaluate(model, test_loader, criterion)\n",
        "print(f\"Test Loss: {test_loss:.4f} | Test Acc: {test_acc*100:.2f}%\")"
      ],
      "metadata": {
        "colab": {
          "base_uri": "https://localhost:8080/"
        },
        "id": "IyTlQeICQKHK",
        "outputId": "fe000bcd-2777-45e9-aaa3-7cf19e06a659"
      },
      "execution_count": 23,
      "outputs": [
        {
          "output_type": "stream",
          "name": "stderr",
          "text": [
            "Evaluating: 100%|██████████| 391/391 [00:04<00:00, 78.51it/s]"
          ]
        },
        {
          "output_type": "stream",
          "name": "stdout",
          "text": [
            "Test Loss: 0.6844 | Test Acc: 56.84%\n"
          ]
        },
        {
          "output_type": "stream",
          "name": "stderr",
          "text": [
            "\n"
          ]
        }
      ]
    },
    {
      "cell_type": "code",
      "source": [
        "def predict_sentiment(model, text, vocab, max_len=200):\n",
        "    tokens = preprocess_text(text)\n",
        "    encoded = encode_review(tokens, vocab, max_len)\n",
        "    tensor = torch.tensor(encoded).unsqueeze(0).to(device)\n",
        "    model.eval()\n",
        "\n",
        "    with torch.no_grad():\n",
        "        prediction = torch.sigmoid(model(tensor).squeeze(1))\n",
        "\n",
        "    probability = prediction.item()\n",
        "    sentiment = \"Positive\" if probability >= 0.5 else \"Negative\"\n",
        "\n",
        "    return probability, sentiment\n",
        "\n",
        "sample_reviews = [\n",
        "    \"This movie was absolutely amazing! The acting was superb and the plot was engaging.\",\n",
        "    \"I was thoroughly disappointed with this film. The story made no sense and the acting was terrible.\",\n",
        "    \"It was okay. Nothing special but not terrible either.\",\n",
        "    \"Despite some flaws in the plot, the movie had great visual effects and good performances.\"\n",
        "]\n",
        "\n",
        "print(\"Model predictions on sample reviews:\")\n",
        "for review in sample_reviews:\n",
        "    prob, sent = predict_sentiment(model, review, vocab)\n",
        "    print(f\"Review: {review[:50]}...\")\n",
        "    print(f\"Sentiment: {sent} (probability: {prob:.4f})\")\n",
        "    print(\"-\" * 50)\n"
      ],
      "metadata": {
        "colab": {
          "base_uri": "https://localhost:8080/"
        },
        "id": "oR6eBY50QLOy",
        "outputId": "f8540f88-e3c9-4710-dbf1-2158f7ab49d4"
      },
      "execution_count": 24,
      "outputs": [
        {
          "output_type": "stream",
          "name": "stdout",
          "text": [
            "Model predictions on sample reviews:\n",
            "Review: This movie was absolutely amazing! The acting was ...\n",
            "Sentiment: Positive (probability: 0.5487)\n",
            "--------------------------------------------------\n",
            "Review: I was thoroughly disappointed with this film. The ...\n",
            "Sentiment: Positive (probability: 0.5487)\n",
            "--------------------------------------------------\n",
            "Review: It was okay. Nothing special but not terrible eith...\n",
            "Sentiment: Positive (probability: 0.5487)\n",
            "--------------------------------------------------\n",
            "Review: Despite some flaws in the plot, the movie had grea...\n",
            "Sentiment: Negative (probability: 0.4395)\n",
            "--------------------------------------------------\n"
          ]
        }
      ]
    },
    {
      "cell_type": "code",
      "source": [
        "torch.save({\n",
        "    'model_state_dict': model.state_dict(),\n",
        "    'vocab': vocab,\n",
        "    'model_params': {\n",
        "        'vocab_size': vocab_size,\n",
        "        'embedding_dim': embedding_dim,\n",
        "        'hidden_dim': hidden_dim,\n",
        "        'output_dim': output_dim,\n",
        "        'n_layers': n_layers\n",
        "    }\n",
        "}, 'lstm_sentiment_model.pt')\n",
        "\n",
        "print(\"Model saved successfully!\")"
      ],
      "metadata": {
        "colab": {
          "base_uri": "https://localhost:8080/"
        },
        "id": "N8nUyRsXQMlC",
        "outputId": "f510d320-24a6-4066-8096-185b8ec492fc"
      },
      "execution_count": 25,
      "outputs": [
        {
          "output_type": "stream",
          "name": "stdout",
          "text": [
            "Model saved successfully!\n"
          ]
        }
      ]
    },
    {
      "cell_type": "markdown",
      "source": [
        "Task :\n",
        "- train a 1/3 layered network and compare the results\n",
        "- change the task from many to one to many to many tasK"
      ],
      "metadata": {
        "id": "TYrePFfDQWQO"
      }
    },
    {
      "cell_type": "markdown",
      "source": [
        "**1. Stacked layered network with bidirectional LSTM**"
      ],
      "metadata": {
        "id": "kQMAg1X3Qa89"
      }
    },
    {
      "cell_type": "code",
      "source": [
        "dataset = load_dataset(\"imdb\")\n",
        "\n",
        "train_data = dataset[\"train\"]\n",
        "test_data = dataset[\"test\"]\n",
        "\n",
        "print(f\"Dataset loaded! Total training examples: {len(train_data)}\")\n",
        "print(f\"Sample review (text): {train_data[0]['text'][:100]}...\")\n",
        "print(f\"Sample label (0=negative, 1=positive): {train_data[0]['label']}\")"
      ],
      "metadata": {
        "colab": {
          "base_uri": "https://localhost:8080/"
        },
        "id": "jwYbGFHcQVBj",
        "outputId": "db42648c-0c35-4adb-ee15-3567f1be33d4"
      },
      "execution_count": 26,
      "outputs": [
        {
          "output_type": "stream",
          "name": "stdout",
          "text": [
            "Dataset loaded! Total training examples: 25000\n",
            "Sample review (text): I rented I AM CURIOUS-YELLOW from my video store because of all the controversy that surrounded it w...\n",
            "Sample label (0=negative, 1=positive): 0\n"
          ]
        }
      ]
    },
    {
      "cell_type": "code",
      "source": [
        "def preprocess_text(text):\n",
        "    text = text.lower()\n",
        "    text = re.sub(r'<.*?>', '', text)\n",
        "    text = re.sub(r'[^a-zA-Z\\s]', '', text)\n",
        "    tokens = word_tokenize(text)\n",
        "    return tokens\n"
      ],
      "metadata": {
        "id": "YAcz8du8QhLt"
      },
      "execution_count": 27,
      "outputs": []
    },
    {
      "cell_type": "code",
      "source": [
        "train_reviews = []\n",
        "train_labels = []\n",
        "\n",
        "for sample in tqdm(train_data):\n",
        "    label_int = sample['label']\n",
        "    train_labels.append(label_int)\n",
        "    tokens = preprocess_text(sample['text'])\n",
        "    train_reviews.append(tokens)\n",
        "\n",
        "test_reviews = []\n",
        "test_labels = []\n",
        "\n",
        "for sample in tqdm(test_data):\n",
        "    label_int = sample['label']\n",
        "    test_labels.append(label_int)\n",
        "    tokens = preprocess_text(sample['text'])\n",
        "    test_reviews.append(tokens)\n",
        "\n",
        "print(f\"Example tokenized review: {train_reviews[0][:15]}...\")\n",
        "print(f\"Example tokenized label: {train_labels[0]}...\")\n"
      ],
      "metadata": {
        "colab": {
          "base_uri": "https://localhost:8080/"
        },
        "id": "f7rpRlhZURtn",
        "outputId": "c30adc67-a764-46ef-9c4e-a726cf3267b2"
      },
      "execution_count": 28,
      "outputs": [
        {
          "output_type": "stream",
          "name": "stderr",
          "text": [
            "100%|██████████| 25000/25000 [00:22<00:00, 1131.21it/s]\n",
            "100%|██████████| 25000/25000 [00:20<00:00, 1239.84it/s]"
          ]
        },
        {
          "output_type": "stream",
          "name": "stdout",
          "text": [
            "Example tokenized review: ['i', 'rented', 'i', 'am', 'curiousyellow', 'from', 'my', 'video', 'store', 'because', 'of', 'all', 'the', 'controversy', 'that']...\n",
            "Example tokenized label: 0...\n"
          ]
        },
        {
          "output_type": "stream",
          "name": "stderr",
          "text": [
            "\n"
          ]
        }
      ]
    },
    {
      "cell_type": "code",
      "source": [
        "def build_vocab(reviews, max_words=10000):\n",
        "    word_count = Counter()\n",
        "    for review in reviews:\n",
        "        word_count.update(review)\n",
        "    most_common = word_count.most_common(max_words - 2)\n",
        "    vocab = {word: idx+2 for idx, (word, _) in enumerate(most_common)}\n",
        "    vocab['<PAD>'] = 0\n",
        "    vocab['<UNK>'] = 1\n",
        "\n",
        "    return vocab"
      ],
      "metadata": {
        "id": "MRBRAEDaUaov"
      },
      "execution_count": 29,
      "outputs": []
    },
    {
      "cell_type": "code",
      "source": [
        "vocab = build_vocab(train_reviews)\n",
        "vocab_size = len(vocab)\n",
        "print(f\"Vocabulary created with {vocab_size} words!\")\n",
        "print(f\"Sample words: {list(vocab.items())[:10]}\")\n",
        "idx_to_word = {idx: word for word, idx in vocab.items()}"
      ],
      "metadata": {
        "colab": {
          "base_uri": "https://localhost:8080/"
        },
        "id": "GcMv8DYjQiPw",
        "outputId": "f3314af7-213c-40df-caa7-6589025cb77b"
      },
      "execution_count": 30,
      "outputs": [
        {
          "output_type": "stream",
          "name": "stdout",
          "text": [
            "Vocabulary created with 10000 words!\n",
            "Sample words: [('the', 2), ('and', 3), ('a', 4), ('of', 5), ('to', 6), ('is', 7), ('in', 8), ('it', 9), ('this', 10), ('i', 11)]\n"
          ]
        }
      ]
    },
    {
      "cell_type": "code",
      "source": [
        "review_lengths = [len(review) for review in train_reviews]\n",
        "max_review_length = max(review_lengths)\n",
        "mean_length = np.mean(review_lengths)\n",
        "median_length = np.median(review_lengths)\n",
        "p95_length = np.percentile(review_lengths, 95)\n",
        "\n",
        "print(f\"Maximum review length: {max_review_length}\")\n",
        "print(f\"Mean review length: {mean_length:.2f}\")\n",
        "print(f\"Median review length: {median_length}\")\n",
        "print(f\"95th percentile length: {p95_length}\")"
      ],
      "metadata": {
        "colab": {
          "base_uri": "https://localhost:8080/"
        },
        "id": "ZOYdRbXqQjZ4",
        "outputId": "caf5d5cc-8bfe-498b-9c50-7ea045f6c032"
      },
      "execution_count": 31,
      "outputs": [
        {
          "output_type": "stream",
          "name": "stdout",
          "text": [
            "Maximum review length: 2441\n",
            "Mean review length: 227.81\n",
            "Median review length: 170.0\n",
            "95th percentile length: 583.0\n"
          ]
        }
      ]
    },
    {
      "cell_type": "code",
      "source": [
        "plt.figure(figsize=(10, 6))\n",
        "plt.hist(review_lengths, bins=50)\n",
        "plt.axvline(x=max_review_length, color='r', linestyle='--', label=f'Max: {max_review_length}')\n",
        "plt.axvline(x=p95_length, color='g', linestyle='--', label=f'95th: {p95_length:.0f}')\n",
        "plt.axvline(x=median_length, color='b', linestyle='--', label=f'Median: {median_length}')\n",
        "plt.title(\"Distribution of Review Lengths\")\n",
        "plt.xlabel(\"Length (number of tokens)\")\n",
        "plt.ylabel(\"Count\")\n",
        "plt.legend()\n",
        "plt.grid(True, alpha=0.3)\n",
        "plt.show()\n"
      ],
      "metadata": {
        "colab": {
          "base_uri": "https://localhost:8080/",
          "height": 564
        },
        "id": "vO89A3mJUlVn",
        "outputId": "b4727f05-63cf-4152-ce3a-140be5160021"
      },
      "execution_count": 32,
      "outputs": [
        {
          "output_type": "display_data",
          "data": {
            "text/plain": [
              "<Figure size 1000x600 with 1 Axes>"
            ],
            "image/png": "[encoded data removed]"
          },
          "metadata": {}
        }
      ]
    },
    {
      "cell_type": "code",
      "source": [
        "chosen_max_len = int(p95_length)\n",
        "print(f\"Chosen max_len: {chosen_max_len}\")"
      ],
      "metadata": {
        "colab": {
          "base_uri": "https://localhost:8080/"
        },
        "id": "Ofob1IkOUq4J",
        "outputId": "763f56bd-ac77-42f2-f494-e8b9f6247cd3"
      },
      "execution_count": 33,
      "outputs": [
        {
          "output_type": "stream",
          "name": "stdout",
          "text": [
            "Chosen max_len: 583\n"
          ]
        }
      ]
    },
    {
      "cell_type": "code",
      "source": [
        "def encode_review(review, vocab, max_len=None):\n",
        "    if max_len is None:\n",
        "        max_len = chosen_max_len\n",
        "\n",
        "    encoded = [vocab.get(word, vocab['<UNK>']) for word in review[:max_len]]\n",
        "\n",
        "    if len(encoded) < max_len:\n",
        "        encoded += [vocab['<PAD>']] * (max_len - len(encoded))\n",
        "\n",
        "    return encoded"
      ],
      "metadata": {
        "id": "l85B3ov3Un2U"
      },
      "execution_count": 34,
      "outputs": []
    },
    {
      "cell_type": "code",
      "source": [
        "train_encoded = [encode_review(review, vocab) for review in tqdm(train_reviews)]\n",
        "test_encoded = [encode_review(review, vocab) for review in tqdm(test_reviews)]\n",
        "\n",
        "train_sequences = torch.tensor(train_encoded, dtype=torch.long)\n",
        "train_labels_tensor = torch.tensor(train_labels, dtype=torch.float)\n",
        "test_sequences = torch.tensor(test_encoded, dtype=torch.long)\n",
        "test_labels_tensor = torch.tensor(test_labels, dtype=torch.float)\n",
        "\n",
        "print(f\"Example sequence: {train_sequences[0][:15]}...\")\n",
        "print(f\"All sequences are now of length {chosen_max_len}\")\n",
        "\n",
        "truncated_count = sum(1 for length in review_lengths if length > chosen_max_len)\n",
        "truncated_percentage = (truncated_count / len(review_lengths)) * 100\n",
        "print(f\"Reviews truncated: {truncated_count} ({truncated_percentage:.2f}%)\")\n"
      ],
      "metadata": {
        "colab": {
          "base_uri": "https://localhost:8080/"
        },
        "id": "K12wLcZkUwHM",
        "outputId": "62b925f6-0b7c-4931-8ea9-1da70d642784"
      },
      "execution_count": 35,
      "outputs": [
        {
          "output_type": "stream",
          "name": "stderr",
          "text": [
            "100%|██████████| 25000/25000 [00:01<00:00, 19440.18it/s]\n",
            "100%|██████████| 25000/25000 [00:01<00:00, 15088.49it/s]\n"
          ]
        },
        {
          "output_type": "stream",
          "name": "stdout",
          "text": [
            "Example sequence: tensor([  11, 1511,   11,  237,    1,   36,   59,  390, 1132,   78,    5,   31,\n",
            "           2, 6947,   12])...\n",
            "All sequences are now of length 583\n",
            "Reviews truncated: 1245 (4.98%)\n"
          ]
        }
      ]
    },
    {
      "cell_type": "code",
      "source": [
        "def encode_review(review, vocab, max_len=200):\n",
        "    encoded = [vocab.get(word, vocab['<UNK>']) for word in review[:max_len]]\n",
        "\n",
        "    if len(encoded) < max_len:\n",
        "        encoded += [vocab['<PAD>']] * (max_len - len(encoded))\n",
        "\n",
        "    return encoded"
      ],
      "metadata": {
        "id": "oY0vUMfgUzVs"
      },
      "execution_count": 36,
      "outputs": []
    },
    {
      "cell_type": "code",
      "source": [
        "train_encoded = [encode_review(review, vocab) for review in tqdm(train_reviews)]\n",
        "test_encoded = [encode_review(review, vocab) for review in tqdm(test_reviews)]\n",
        "\n",
        "train_sequences = torch.tensor(train_encoded, dtype=torch.long)\n",
        "train_labels_tensor = torch.tensor(train_labels, dtype=torch.float)\n",
        "test_sequences = torch.tensor(test_encoded, dtype=torch.long)\n",
        "test_labels_tensor = torch.tensor(test_labels, dtype=torch.float)\n",
        "\n",
        "print(f\"Example sequence: {train_sequences[0][:15]}...\")\n"
      ],
      "metadata": {
        "colab": {
          "base_uri": "https://localhost:8080/"
        },
        "id": "v4caBRqvU34o",
        "outputId": "b0754199-afef-4d4c-f8a5-3c19156e2438"
      },
      "execution_count": 37,
      "outputs": [
        {
          "output_type": "stream",
          "name": "stderr",
          "text": [
            "100%|██████████| 25000/25000 [00:00<00:00, 31751.24it/s]\n",
            "100%|██████████| 25000/25000 [00:01<00:00, 21541.17it/s]\n"
          ]
        },
        {
          "output_type": "stream",
          "name": "stdout",
          "text": [
            "Example sequence: tensor([  11, 1511,   11,  237,    1,   36,   59,  390, 1132,   78,    5,   31,\n",
            "           2, 6947,   12])...\n"
          ]
        }
      ]
    },
    {
      "cell_type": "code",
      "source": [
        "class IMDbDataset(Dataset):\n",
        "    def __init__(self, sequences, labels):\n",
        "        self.sequences = sequences\n",
        "        self.labels = labels\n",
        "\n",
        "    def __len__(self):\n",
        "        return len(self.sequences)\n",
        "\n",
        "    def __getitem__(self, idx):\n",
        "        return self.sequences[idx], self.labels[idx]"
      ],
      "metadata": {
        "id": "Z5GydgGIU5-F"
      },
      "execution_count": 38,
      "outputs": []
    },
    {
      "cell_type": "code",
      "source": [
        "train_seq, val_seq, train_labels, val_labels = train_test_split(\n",
        "    train_sequences, train_labels_tensor, test_size=0.1, random_state=42\n",
        ")\n",
        "\n",
        "train_dataset = IMDbDataset(train_seq, train_labels)\n",
        "val_dataset = IMDbDataset(val_seq, val_labels)\n",
        "test_dataset = IMDbDataset(test_sequences, test_labels_tensor)\n",
        "\n",
        "batch_size = 64\n",
        "train_loader = DataLoader(train_dataset, batch_size=batch_size, shuffle=True)\n",
        "val_loader = DataLoader(val_dataset, batch_size=batch_size)\n",
        "test_loader = DataLoader(test_dataset, batch_size=batch_size)\n",
        "\n",
        "print(f\"Training batches: {len(train_loader)}\")"
      ],
      "metadata": {
        "colab": {
          "base_uri": "https://localhost:8080/"
        },
        "id": "I0gDNzMhU8ov",
        "outputId": "99caa6b5-b236-49c6-c922-337a2bc4d8b5"
      },
      "execution_count": 39,
      "outputs": [
        {
          "output_type": "stream",
          "name": "stdout",
          "text": [
            "Training batches: 352\n"
          ]
        }
      ]
    },
    {
      "cell_type": "code",
      "source": [
        "class StackedBiLSTM(nn.Module):\n",
        "    def __init__(self, vocab_size, embedding_dim, hidden_dim, output_dim, n_layers, dropout=0.5):\n",
        "        super(StackedBiLSTM, self).__init__()\n",
        "\n",
        "        self.embedding = nn.Embedding(vocab_size, embedding_dim)\n",
        "\n",
        "        self.lstm = nn.LSTM(input_size=embedding_dim,\n",
        "                            hidden_size=hidden_dim,\n",
        "                            num_layers=n_layers,\n",
        "                            dropout=dropout if n_layers > 1 else 0,\n",
        "                            bidirectional=True,\n",
        "                            batch_first=True)\n",
        "\n",
        "        self.fc = nn.Linear(hidden_dim * 2, output_dim)\n",
        "        self.dropout = nn.Dropout(dropout)\n",
        "\n",
        "    def forward(self, x):\n",
        "        embedded = self.dropout(self.embedding(x))\n",
        "        outputs, _ = self.lstm(embedded)\n",
        "        final_hidden = self.dropout(outputs[:, -1, :])\n",
        "        return self.fc(final_hidden)\n"
      ],
      "metadata": {
        "id": "er5yYk05U-zU"
      },
      "execution_count": 40,
      "outputs": []
    },
    {
      "cell_type": "code",
      "source": [
        "model = StackedBiLSTM(\n",
        "    vocab_size=vocab_size,\n",
        "    embedding_dim=embedding_dim,\n",
        "    hidden_dim=hidden_dim,\n",
        "    output_dim=output_dim,\n",
        "    n_layers=n_layers\n",
        ").to(device)"
      ],
      "metadata": {
        "id": "lIo8FAOxVDVu"
      },
      "execution_count": 41,
      "outputs": []
    },
    {
      "cell_type": "code",
      "source": [
        "criterion = nn.BCEWithLogitsLoss()\n",
        "optimizer = optim.Adam(model.parameters(), lr=0.001)"
      ],
      "metadata": {
        "id": "v8pPGhloVEhu"
      },
      "execution_count": 42,
      "outputs": []
    },
    {
      "cell_type": "code",
      "source": [
        "n_epochs = 10\n",
        "\n",
        "train_losses = []\n",
        "train_accs = []\n",
        "val_losses = []\n",
        "val_accs = []\n",
        "\n",
        "for epoch in range(n_epochs):\n",
        "    print(f\"\\nEpoch {epoch+1}/{n_epochs}\")\n",
        "    print(\"-\" * 20)\n",
        "\n",
        "    train_loss, train_acc = train(model, train_loader, optimizer, criterion)\n",
        "    train_losses.append(train_loss)\n",
        "    train_accs.append(train_acc)\n",
        "\n",
        "    val_loss, val_acc = evaluate(model, val_loader, criterion)\n",
        "    val_losses.append(val_loss)\n",
        "    val_accs.append(val_acc)\n",
        "\n",
        "    print(f\"Train Loss: {train_loss:.4f} | Train Acc: {train_acc*100:.2f}%\")\n",
        "    print(f\"Val Loss: {val_loss:.4f} | Val Acc: {val_acc*100:.2f}%\")\n"
      ],
      "metadata": {
        "colab": {
          "base_uri": "https://localhost:8080/"
        },
        "id": "CLMxZ_PbVHX1",
        "outputId": "5f04e321-f6f4-41a6-f71b-b9944c87a435"
      },
      "execution_count": 43,
      "outputs": [
        {
          "output_type": "stream",
          "name": "stdout",
          "text": [
            "\n",
            "Epoch 1/10\n",
            "--------------------\n"
          ]
        },
        {
          "output_type": "stream",
          "name": "stderr",
          "text": [
            "Training: 100%|██████████| 352/352 [00:27<00:00, 12.96it/s]\n",
            "Evaluating: 100%|██████████| 40/40 [00:01<00:00, 35.19it/s]\n"
          ]
        },
        {
          "output_type": "stream",
          "name": "stdout",
          "text": [
            "Train Loss: 0.6947 | Train Acc: 50.53%\n",
            "Val Loss: 0.6932 | Val Acc: 51.09%\n",
            "\n",
            "Epoch 2/10\n",
            "--------------------\n"
          ]
        },
        {
          "output_type": "stream",
          "name": "stderr",
          "text": [
            "Training: 100%|██████████| 352/352 [00:27<00:00, 12.78it/s]\n",
            "Evaluating: 100%|██████████| 40/40 [00:01<00:00, 35.39it/s]\n"
          ]
        },
        {
          "output_type": "stream",
          "name": "stdout",
          "text": [
            "Train Loss: 0.6927 | Train Acc: 50.80%\n",
            "Val Loss: 0.6948 | Val Acc: 48.71%\n",
            "\n",
            "Epoch 3/10\n",
            "--------------------\n"
          ]
        },
        {
          "output_type": "stream",
          "name": "stderr",
          "text": [
            "Training: 100%|██████████| 352/352 [00:27<00:00, 13.02it/s]\n",
            "Evaluating: 100%|██████████| 40/40 [00:01<00:00, 36.13it/s]\n"
          ]
        },
        {
          "output_type": "stream",
          "name": "stdout",
          "text": [
            "Train Loss: 0.6911 | Train Acc: 51.97%\n",
            "Val Loss: 0.6940 | Val Acc: 49.73%\n",
            "\n",
            "Epoch 4/10\n",
            "--------------------\n"
          ]
        },
        {
          "output_type": "stream",
          "name": "stderr",
          "text": [
            "Training: 100%|██████████| 352/352 [00:27<00:00, 12.94it/s]\n",
            "Evaluating: 100%|██████████| 40/40 [00:01<00:00, 35.80it/s]\n"
          ]
        },
        {
          "output_type": "stream",
          "name": "stdout",
          "text": [
            "Train Loss: 0.6916 | Train Acc: 51.26%\n",
            "Val Loss: 0.6831 | Val Acc: 52.97%\n",
            "\n",
            "Epoch 5/10\n",
            "--------------------\n"
          ]
        },
        {
          "output_type": "stream",
          "name": "stderr",
          "text": [
            "Training: 100%|██████████| 352/352 [00:27<00:00, 13.00it/s]\n",
            "Evaluating: 100%|██████████| 40/40 [00:01<00:00, 35.64it/s]\n"
          ]
        },
        {
          "output_type": "stream",
          "name": "stdout",
          "text": [
            "Train Loss: 0.6661 | Train Acc: 59.11%\n",
            "Val Loss: 0.6005 | Val Acc: 69.84%\n",
            "\n",
            "Epoch 6/10\n",
            "--------------------\n"
          ]
        },
        {
          "output_type": "stream",
          "name": "stderr",
          "text": [
            "Training: 100%|██████████| 352/352 [00:26<00:00, 13.05it/s]\n",
            "Evaluating: 100%|██████████| 40/40 [00:01<00:00, 35.77it/s]\n"
          ]
        },
        {
          "output_type": "stream",
          "name": "stdout",
          "text": [
            "Train Loss: 0.5670 | Train Acc: 72.31%\n",
            "Val Loss: 0.4997 | Val Acc: 76.25%\n",
            "\n",
            "Epoch 7/10\n",
            "--------------------\n"
          ]
        },
        {
          "output_type": "stream",
          "name": "stderr",
          "text": [
            "Training: 100%|██████████| 352/352 [00:27<00:00, 13.02it/s]\n",
            "Evaluating: 100%|██████████| 40/40 [00:01<00:00, 35.90it/s]\n"
          ]
        },
        {
          "output_type": "stream",
          "name": "stdout",
          "text": [
            "Train Loss: 0.5561 | Train Acc: 73.36%\n",
            "Val Loss: 0.5154 | Val Acc: 75.70%\n",
            "\n",
            "Epoch 8/10\n",
            "--------------------\n"
          ]
        },
        {
          "output_type": "stream",
          "name": "stderr",
          "text": [
            "Training: 100%|██████████| 352/352 [00:26<00:00, 13.06it/s]\n",
            "Evaluating: 100%|██████████| 40/40 [00:01<00:00, 35.45it/s]\n"
          ]
        },
        {
          "output_type": "stream",
          "name": "stdout",
          "text": [
            "Train Loss: 0.4797 | Train Acc: 78.20%\n",
            "Val Loss: 0.4457 | Val Acc: 78.28%\n",
            "\n",
            "Epoch 9/10\n",
            "--------------------\n"
          ]
        },
        {
          "output_type": "stream",
          "name": "stderr",
          "text": [
            "Training: 100%|██████████| 352/352 [00:26<00:00, 13.04it/s]\n",
            "Evaluating: 100%|██████████| 40/40 [00:01<00:00, 35.86it/s]\n"
          ]
        },
        {
          "output_type": "stream",
          "name": "stdout",
          "text": [
            "Train Loss: 0.4351 | Train Acc: 80.35%\n",
            "Val Loss: 0.4304 | Val Acc: 80.43%\n",
            "\n",
            "Epoch 10/10\n",
            "--------------------\n"
          ]
        },
        {
          "output_type": "stream",
          "name": "stderr",
          "text": [
            "Training: 100%|██████████| 352/352 [00:27<00:00, 13.03it/s]\n",
            "Evaluating: 100%|██████████| 40/40 [00:01<00:00, 35.76it/s]"
          ]
        },
        {
          "output_type": "stream",
          "name": "stdout",
          "text": [
            "Train Loss: 0.4064 | Train Acc: 82.10%\n",
            "Val Loss: 0.4195 | Val Acc: 81.48%\n"
          ]
        },
        {
          "output_type": "stream",
          "name": "stderr",
          "text": [
            "\n"
          ]
        }
      ]
    },
    {
      "cell_type": "code",
      "source": [
        "plt.figure(figsize=(12, 5))\n",
        "\n",
        "# loss\n",
        "plt.subplot(1, 2, 1)\n",
        "plt.plot(train_losses, label='Train Loss')\n",
        "plt.plot(val_losses, label='Val Loss')\n",
        "plt.xlabel('Epoch')\n",
        "plt.ylabel('Loss')\n",
        "plt.title('Training and Validation Loss')\n",
        "plt.legend()\n",
        "plt.grid(True)\n",
        "# accuracy\n",
        "plt.subplot(1, 2, 2)\n",
        "plt.plot(train_accs, label='Train Acc')\n",
        "plt.plot(val_accs, label='Val Acc')\n",
        "plt.xlabel('Epoch')\n",
        "plt.ylabel('Accuracy')\n",
        "plt.title('Training and Validation Accuracy')\n",
        "plt.legend()\n",
        "plt.grid(True)\n",
        "plt.tight_layout()\n",
        "\n",
        "plt.show()\n"
      ],
      "metadata": {
        "colab": {
          "base_uri": "https://localhost:8080/",
          "height": 507
        },
        "id": "6sbm6gJxVLfn",
        "outputId": "f4402966-8478-4375-d372-1b98718f33dd"
      },
      "execution_count": 46,
      "outputs": [
        {
          "output_type": "display_data",
          "data": {
            "text/plain": [
              "<Figure size 1200x500 with 2 Axes>"
            ],
            "image/png": "[encoded data removed]"
          },
          "metadata": {}
        }
      ]
    },
    {
      "cell_type": "code",
      "source": [
        "test_loss, test_acc = evaluate(model, test_loader, criterion)\n",
        "print(f\"Test Loss: {test_loss:.4f} | Test Acc: {test_acc*100:.2f}%\")"
      ],
      "metadata": {
        "colab": {
          "base_uri": "https://localhost:8080/"
        },
        "id": "Ydg1bc3yVTeo",
        "outputId": "f392646e-6106-49b5-d3e9-ae33853aa813"
      },
      "execution_count": 47,
      "outputs": [
        {
          "output_type": "stream",
          "name": "stderr",
          "text": [
            "Evaluating: 100%|██████████| 391/391 [00:11<00:00, 35.17it/s]"
          ]
        },
        {
          "output_type": "stream",
          "name": "stdout",
          "text": [
            "Test Loss: 0.4220 | Test Acc: 81.88%\n"
          ]
        },
        {
          "output_type": "stream",
          "name": "stderr",
          "text": [
            "\n"
          ]
        }
      ]
    },
    {
      "cell_type": "code",
      "source": [
        "sample_reviews = [\n",
        "    \"This movie was absolutely amazing! The acting was superb and the plot was engaging.\",\n",
        "    \"I was thoroughly disappointed with this film. The story made no sense and the acting was terrible.\",\n",
        "    \"It was okay. Nothing special but not terrible either.\",\n",
        "    \"Despite some flaws in the plot, the movie had great visual effects and good performances.\"\n",
        "]\n",
        "\n",
        "print(\"Model predictions on sample reviews:\")\n",
        "for review in sample_reviews:\n",
        "    prob, sent = predict_sentiment(model, review, vocab)\n",
        "    print(f\"Review: {review[:50]}...\")\n",
        "    print(f\"Sentiment: {sent} (probability: {prob:.4f})\")\n",
        "    print(\"-\" * 50)"
      ],
      "metadata": {
        "colab": {
          "base_uri": "https://localhost:8080/"
        },
        "id": "2I_2-6AOVUlR",
        "outputId": "d0a25303-ae30-4499-933e-02e7cca803ae"
      },
      "execution_count": 48,
      "outputs": [
        {
          "output_type": "stream",
          "name": "stdout",
          "text": [
            "Model predictions on sample reviews:\n",
            "Review: This movie was absolutely amazing! The acting was ...\n",
            "Sentiment: Positive (probability: 0.7789)\n",
            "--------------------------------------------------\n",
            "Review: I was thoroughly disappointed with this film. The ...\n",
            "Sentiment: Negative (probability: 0.0747)\n",
            "--------------------------------------------------\n",
            "Review: It was okay. Nothing special but not terrible eith...\n",
            "Sentiment: Negative (probability: 0.2505)\n",
            "--------------------------------------------------\n",
            "Review: Despite some flaws in the plot, the movie had grea...\n",
            "Sentiment: Positive (probability: 0.8587)\n",
            "--------------------------------------------------\n"
          ]
        }
      ]
    },
    {
      "cell_type": "markdown",
      "source": [
        "**2. Stacked layered network without bidirectional LSTM**"
      ],
      "metadata": {
        "id": "vzbpl5zYVb2A"
      }
    },
    {
      "cell_type": "code",
      "source": [
        "dataset = load_dataset(\"imdb\")\n",
        "\n",
        "train_data = dataset[\"train\"]\n",
        "test_data = dataset[\"test\"]\n",
        "\n",
        "print(f\"Dataset loaded! Total training examples: {len(train_data)}\")\n",
        "print(f\"Sample review (text): {train_data[0]['text'][:100]}...\")\n",
        "print(f\"Sample label (0=negative, 1=positive): {train_data[0]['label']}\")"
      ],
      "metadata": {
        "colab": {
          "base_uri": "https://localhost:8080/"
        },
        "id": "247xLA8cWcJU",
        "outputId": "1bbb2a4b-2839-4f5e-8ee3-faaa6ca1b177"
      },
      "execution_count": 49,
      "outputs": [
        {
          "output_type": "stream",
          "name": "stdout",
          "text": [
            "Dataset loaded! Total training examples: 25000\n",
            "Sample review (text): I rented I AM CURIOUS-YELLOW from my video store because of all the controversy that surrounded it w...\n",
            "Sample label (0=negative, 1=positive): 0\n"
          ]
        }
      ]
    },
    {
      "cell_type": "code",
      "source": [
        "def preprocess_text(text):\n",
        "    text = text.lower()\n",
        "    text = re.sub(r'<.*?>', '', text)\n",
        "    text = re.sub(r'[^a-zA-Z\\s]', '', text)\n",
        "    tokens = word_tokenize(text)\n",
        "    return tokens"
      ],
      "metadata": {
        "id": "aaN6BfPKWdzF"
      },
      "execution_count": 50,
      "outputs": []
    },
    {
      "cell_type": "code",
      "source": [
        "train_reviews = []\n",
        "train_labels = []\n",
        "\n",
        "for sample in tqdm(train_data):\n",
        "    label_int = sample['label']\n",
        "    train_labels.append(label_int)\n",
        "    tokens = preprocess_text(sample['text'])\n",
        "    train_reviews.append(tokens)\n",
        "\n",
        "test_reviews = []\n",
        "test_labels = []\n",
        "\n",
        "for sample in tqdm(test_data):\n",
        "    label_int = sample['label']\n",
        "    test_labels.append(label_int)\n",
        "    tokens = preprocess_text(sample['text'])\n",
        "    test_reviews.append(tokens)\n",
        "\n",
        "print(f\"Example tokenized review: {train_reviews[0][:15]}...\")\n",
        "print(f\"Example tokenized label: {train_labels[0]}...\")\n"
      ],
      "metadata": {
        "colab": {
          "base_uri": "https://localhost:8080/"
        },
        "id": "J6UZKBBYWhGo",
        "outputId": "e167419a-62b2-4510-9857-77335a16d42d"
      },
      "execution_count": 51,
      "outputs": [
        {
          "output_type": "stream",
          "name": "stderr",
          "text": [
            "100%|██████████| 25000/25000 [00:22<00:00, 1121.12it/s]\n",
            "100%|██████████| 25000/25000 [00:20<00:00, 1220.86it/s]"
          ]
        },
        {
          "output_type": "stream",
          "name": "stdout",
          "text": [
            "Example tokenized review: ['i', 'rented', 'i', 'am', 'curiousyellow', 'from', 'my', 'video', 'store', 'because', 'of', 'all', 'the', 'controversy', 'that']...\n",
            "Example tokenized label: 0...\n"
          ]
        },
        {
          "output_type": "stream",
          "name": "stderr",
          "text": [
            "\n"
          ]
        }
      ]
    },
    {
      "cell_type": "code",
      "source": [
        "def build_vocab(reviews, max_words=10000):\n",
        "    word_count = Counter()\n",
        "    for review in reviews:\n",
        "        word_count.update(review)\n",
        "    most_common = word_count.most_common(max_words - 2)\n",
        "    vocab = {word: idx+2 for idx, (word, _) in enumerate(most_common)}\n",
        "    vocab['<PAD>'] = 0\n",
        "    vocab['<UNK>'] = 1\n",
        "\n",
        "    return vocab\n"
      ],
      "metadata": {
        "id": "XlkBS8mYWliq"
      },
      "execution_count": 52,
      "outputs": []
    },
    {
      "cell_type": "code",
      "source": [
        "vocab = build_vocab(train_reviews)\n",
        "vocab_size = len(vocab)\n",
        "print(f\"Vocabulary created with {vocab_size} words!\")\n",
        "print(f\"Sample words: {list(vocab.items())[:10]}\")\n",
        "idx_to_word = {idx: word for word, idx in vocab.items()}\n"
      ],
      "metadata": {
        "colab": {
          "base_uri": "https://localhost:8080/"
        },
        "id": "TAjRxYrRWtCG",
        "outputId": "a93e4776-1d7c-4f6e-88ed-4abb82d28cf2"
      },
      "execution_count": 53,
      "outputs": [
        {
          "output_type": "stream",
          "name": "stdout",
          "text": [
            "Vocabulary created with 10000 words!\n",
            "Sample words: [('the', 2), ('and', 3), ('a', 4), ('of', 5), ('to', 6), ('is', 7), ('in', 8), ('it', 9), ('this', 10), ('i', 11)]\n"
          ]
        }
      ]
    },
    {
      "cell_type": "code",
      "source": [
        "review_lengths = [len(review) for review in train_reviews]\n",
        "max_review_length = max(review_lengths)\n",
        "mean_length = np.mean(review_lengths)\n",
        "median_length = np.median(review_lengths)\n",
        "p95_length = np.percentile(review_lengths, 95)\n",
        "\n",
        "print(f\"Maximum review length: {max_review_length}\")\n",
        "print(f\"Mean review length: {mean_length:.2f}\")\n",
        "print(f\"Median review length: {median_length}\")\n",
        "print(f\"95th percentile length: {p95_length}\")"
      ],
      "metadata": {
        "colab": {
          "base_uri": "https://localhost:8080/"
        },
        "id": "x9VP3VrkWzXt",
        "outputId": "b708c56d-7efe-45a2-b2a7-a65c7fee1845"
      },
      "execution_count": 54,
      "outputs": [
        {
          "output_type": "stream",
          "name": "stdout",
          "text": [
            "Maximum review length: 2441\n",
            "Mean review length: 227.81\n",
            "Median review length: 170.0\n",
            "95th percentile length: 583.0\n"
          ]
        }
      ]
    },
    {
      "cell_type": "code",
      "source": [
        "plt.figure(figsize=(10, 6))\n",
        "plt.hist(review_lengths, bins=50)\n",
        "plt.axvline(x=max_review_length, color='r', linestyle='--', label=f'Max: {max_review_length}')\n",
        "plt.axvline(x=p95_length, color='g', linestyle='--', label=f'95th: {p95_length:.0f}')\n",
        "plt.axvline(x=median_length, color='b', linestyle='--', label=f'Median: {median_length}')\n",
        "plt.title(\"Distribution of Review Lengths\")\n",
        "plt.xlabel(\"Length (number of tokens)\")\n",
        "plt.ylabel(\"Count\")\n",
        "plt.legend()\n",
        "plt.grid(True, alpha=0.3)\n",
        "plt.show()"
      ],
      "metadata": {
        "colab": {
          "base_uri": "https://localhost:8080/",
          "height": 564
        },
        "id": "md7sD6R2W69q",
        "outputId": "5b07a43b-4dbd-4428-8ccd-1c9dfc575d30"
      },
      "execution_count": 55,
      "outputs": [
        {
          "output_type": "display_data",
          "data": {
            "text/plain": [
              "<Figure size 1000x600 with 1 Axes>"
            ],
            "image/png": "[encoded data removed]"
          },
          "metadata": {}
        }
      ]
    },
    {
      "cell_type": "code",
      "source": [
        "chosen_max_len = int(p95_length)\n",
        "print(f\"Chosen max_len: {chosen_max_len}\")\n",
        "\n",
        "def encode_review(review, vocab, max_len=None):\n",
        "    if max_len is None:\n",
        "        max_len = chosen_max_len\n",
        "    encoded = [vocab.get(word, vocab['<UNK>']) for word in review[:max_len]]\n",
        "\n",
        "    if len(encoded) < max_len:\n",
        "        encoded += [vocab['<PAD>']] * (max_len - len(encoded))\n",
        "\n",
        "    return encoded"
      ],
      "metadata": {
        "colab": {
          "base_uri": "https://localhost:8080/"
        },
        "id": "EWtA0e87W3uz",
        "outputId": "5df4bcf1-83c2-401d-b9e1-e7f868a6bd2d"
      },
      "execution_count": 56,
      "outputs": [
        {
          "output_type": "stream",
          "name": "stdout",
          "text": [
            "Chosen max_len: 583\n"
          ]
        }
      ]
    },
    {
      "cell_type": "code",
      "source": [
        "train_encoded = [encode_review(review, vocab) for review in tqdm(train_reviews)]\n",
        "test_encoded = [encode_review(review, vocab) for review in tqdm(test_reviews)]\n",
        "\n",
        "train_sequences = torch.tensor(train_encoded, dtype=torch.long)\n",
        "train_labels_tensor = torch.tensor(train_labels, dtype=torch.float)\n",
        "test_sequences = torch.tensor(test_encoded, dtype=torch.long)\n",
        "test_labels_tensor = torch.tensor(test_labels, dtype=torch.float)\n",
        "\n",
        "print(f\"Example sequence: {train_sequences[0][:15]}...\")\n",
        "print(f\"All sequences are now of length {chosen_max_len}\")\n",
        "\n",
        "truncated_count = sum(1 for length in review_lengths if length > chosen_max_len)\n",
        "truncated_percentage = (truncated_count / len(review_lengths)) * 100\n",
        "print(f\"Reviews truncated: {truncated_count} ({truncated_percentage:.2f}%)\")\n"
      ],
      "metadata": {
        "colab": {
          "base_uri": "https://localhost:8080/"
        },
        "id": "i40sQ3D7XCdZ",
        "outputId": "2ffdfdd6-1302-42ff-8880-beea1a7271bc"
      },
      "execution_count": 57,
      "outputs": [
        {
          "output_type": "stream",
          "name": "stderr",
          "text": [
            "100%|██████████| 25000/25000 [00:01<00:00, 21379.85it/s]\n",
            "100%|██████████| 25000/25000 [00:01<00:00, 24870.86it/s]\n"
          ]
        },
        {
          "output_type": "stream",
          "name": "stdout",
          "text": [
            "Example sequence: tensor([  11, 1511,   11,  237,    1,   36,   59,  390, 1132,   78,    5,   31,\n",
            "           2, 6947,   12])...\n",
            "All sequences are now of length 583\n",
            "Reviews truncated: 1245 (4.98%)\n"
          ]
        }
      ]
    },
    {
      "cell_type": "code",
      "source": [
        "def encode_review(review, vocab, max_len=200):\n",
        "    encoded = [vocab.get(word, vocab['<UNK>']) for word in review[:max_len]]\n",
        "    if len(encoded) < max_len:\n",
        "        encoded += [vocab['<PAD>']] * (max_len - len(encoded))\n",
        "    return encoded"
      ],
      "metadata": {
        "id": "lYylACpXXFsb"
      },
      "execution_count": 58,
      "outputs": []
    },
    {
      "cell_type": "code",
      "source": [
        "train_encoded = [encode_review(review, vocab) for review in tqdm(train_reviews)]\n",
        "test_encoded = [encode_review(review, vocab) for review in tqdm(test_reviews)]\n",
        "train_sequences = torch.tensor(train_encoded, dtype=torch.long)\n",
        "train_labels_tensor = torch.tensor(train_labels, dtype=torch.float)\n",
        "test_sequences = torch.tensor(test_encoded, dtype=torch.long)\n",
        "test_labels_tensor = torch.tensor(test_labels, dtype=torch.float)\n",
        "\n",
        "print(f\"Example sequence: {train_sequences[0][:15]}...\")\n"
      ],
      "metadata": {
        "colab": {
          "base_uri": "https://localhost:8080/"
        },
        "id": "eY6hXe_gXLKu",
        "outputId": "aeac0a51-fd71-4ea0-bd17-430e05d94b26"
      },
      "execution_count": 59,
      "outputs": [
        {
          "output_type": "stream",
          "name": "stderr",
          "text": [
            "100%|██████████| 25000/25000 [00:01<00:00, 16867.29it/s]\n",
            "100%|██████████| 25000/25000 [00:00<00:00, 42224.66it/s]\n"
          ]
        },
        {
          "output_type": "stream",
          "name": "stdout",
          "text": [
            "Example sequence: tensor([  11, 1511,   11,  237,    1,   36,   59,  390, 1132,   78,    5,   31,\n",
            "           2, 6947,   12])...\n"
          ]
        }
      ]
    },
    {
      "cell_type": "code",
      "source": [
        "class IMDbDataset(Dataset):\n",
        "    def __init__(self, sequences, labels):\n",
        "        self.sequences = sequences\n",
        "        self.labels = labels\n",
        "\n",
        "    def __len__(self):\n",
        "        return len(self.sequences)\n",
        "\n",
        "    def __getitem__(self, idx):\n",
        "        return self.sequences[idx], self.labels[idx]"
      ],
      "metadata": {
        "id": "nJliCMfVXOaX"
      },
      "execution_count": 60,
      "outputs": []
    },
    {
      "cell_type": "code",
      "source": [
        "train_seq, val_seq, train_labels, val_labels = train_test_split(\n",
        "    train_sequences, train_labels_tensor, test_size=0.1, random_state=42\n",
        ")\n",
        "\n",
        "train_dataset = IMDbDataset(train_seq, train_labels)\n",
        "val_dataset = IMDbDataset(val_seq, val_labels)\n",
        "test_dataset = IMDbDataset(test_sequences, test_labels_tensor)\n",
        "\n",
        "batch_size = 64\n",
        "train_loader = DataLoader(train_dataset, batch_size=batch_size, shuffle=True)\n",
        "val_loader = DataLoader(val_dataset, batch_size=batch_size)\n",
        "test_loader = DataLoader(test_dataset, batch_size=batch_size)\n",
        "\n",
        "print(f\"Training batches: {len(train_loader)}\")"
      ],
      "metadata": {
        "colab": {
          "base_uri": "https://localhost:8080/"
        },
        "id": "b3W4GsSYXTKy",
        "outputId": "a67bcd80-eeb6-4188-9ab9-69b9c907653c"
      },
      "execution_count": 61,
      "outputs": [
        {
          "output_type": "stream",
          "name": "stdout",
          "text": [
            "Training batches: 352\n"
          ]
        }
      ]
    },
    {
      "cell_type": "code",
      "source": [
        "criterion = nn.BCEWithLogitsLoss()\n",
        "optimizer = optim.Adam(model.parameters(), lr=0.001)"
      ],
      "metadata": {
        "id": "0aRmcyvoXVeY"
      },
      "execution_count": 62,
      "outputs": []
    },
    {
      "cell_type": "code",
      "source": [
        "class StackedLSTM(nn.Module):\n",
        "    def __init__(self, vocab_size, embedding_dim, hidden_dim, output_dim, n_layers, dropout=0.5):\n",
        "        super(StackedLSTM, self).__init__()\n",
        "\n",
        "        self.embedding = nn.Embedding(vocab_size, embedding_dim)\n",
        "\n",
        "        self.lstm = nn.LSTM(input_size=embedding_dim,\n",
        "                            hidden_size=hidden_dim,\n",
        "                            num_layers=n_layers,\n",
        "                            dropout=dropout if n_layers > 1 else 0,\n",
        "                            bidirectional=False,\n",
        "                            batch_first=True)\n",
        "\n",
        "        self.fc = nn.Linear(hidden_dim, output_dim)\n",
        "        self.dropout = nn.Dropout(dropout)\n",
        "    def forward(self, x):\n",
        "        embedded = self.dropout(self.embedding(x))\n",
        "        outputs, _ = self.lstm(embedded)\n",
        "        final_hidden = self.dropout(outputs[:, -1, :])\n",
        "        return self.fc(final_hidden)\n",
        "model = StackedLSTM(\n",
        "    vocab_size=vocab_size,\n",
        "    embedding_dim=embedding_dim,\n",
        "    hidden_dim=256,\n",
        "    output_dim=1,\n",
        "    n_layers=n_layers\n",
        ").to(device)"
      ],
      "metadata": {
        "id": "sZ-qIvcUXYGD"
      },
      "execution_count": 63,
      "outputs": []
    },
    {
      "cell_type": "code",
      "source": [
        "n_epochs = 10\n",
        "\n",
        "train_losses = []\n",
        "train_accs = []\n",
        "val_losses = []\n",
        "val_accs = []\n",
        "\n",
        "for epoch in range(n_epochs):\n",
        "    print(f\"\\nEpoch {epoch+1}/{n_epochs}\")\n",
        "    print(\"-\" * 20)\n",
        "\n",
        "    train_loss, train_acc = train(model, train_loader, optimizer, criterion)\n",
        "    train_losses.append(train_loss)\n",
        "    train_accs.append(train_acc)\n",
        "\n",
        "    val_loss, val_acc = evaluate(model, val_loader, criterion)\n",
        "    val_losses.append(val_loss)\n",
        "    val_accs.append(val_acc)\n",
        "\n",
        "    print(f\"Train Loss: {train_loss:.4f} | Train Acc: {train_acc*100:.2f}%\")\n",
        "    print(f\"Val Loss: {val_loss:.4f} | Val Acc: {val_acc*100:.2f}%\")\n",
        "\n"
      ],
      "metadata": {
        "colab": {
          "base_uri": "https://localhost:8080/"
        },
        "id": "OQHtlaadXbW_",
        "outputId": "58990fc0-68a9-4403-c625-7a8edf68eab3"
      },
      "execution_count": 64,
      "outputs": [
        {
          "output_type": "stream",
          "name": "stdout",
          "text": [
            "\n",
            "Epoch 1/10\n",
            "--------------------\n"
          ]
        },
        {
          "output_type": "stream",
          "name": "stderr",
          "text": [
            "Training: 100%|██████████| 352/352 [00:14<00:00, 24.51it/s]\n",
            "Evaluating: 100%|██████████| 40/40 [00:00<00:00, 65.55it/s]\n"
          ]
        },
        {
          "output_type": "stream",
          "name": "stdout",
          "text": [
            "Train Loss: 0.6935 | Train Acc: 50.39%\n",
            "Val Loss: 0.6941 | Val Acc: 48.71%\n",
            "\n",
            "Epoch 2/10\n",
            "--------------------\n"
          ]
        },
        {
          "output_type": "stream",
          "name": "stderr",
          "text": [
            "Training: 100%|██████████| 352/352 [00:12<00:00, 27.31it/s]\n",
            "Evaluating: 100%|██████████| 40/40 [00:00<00:00, 74.14it/s]\n"
          ]
        },
        {
          "output_type": "stream",
          "name": "stdout",
          "text": [
            "Train Loss: 0.6935 | Train Acc: 50.13%\n",
            "Val Loss: 0.6941 | Val Acc: 48.71%\n",
            "\n",
            "Epoch 3/10\n",
            "--------------------\n"
          ]
        },
        {
          "output_type": "stream",
          "name": "stderr",
          "text": [
            "Training: 100%|██████████| 352/352 [00:12<00:00, 29.07it/s]\n",
            "Evaluating: 100%|██████████| 40/40 [00:00<00:00, 67.06it/s]\n"
          ]
        },
        {
          "output_type": "stream",
          "name": "stdout",
          "text": [
            "Train Loss: 0.6935 | Train Acc: 50.18%\n",
            "Val Loss: 0.6941 | Val Acc: 48.71%\n",
            "\n",
            "Epoch 4/10\n",
            "--------------------\n"
          ]
        },
        {
          "output_type": "stream",
          "name": "stderr",
          "text": [
            "Training: 100%|██████████| 352/352 [00:12<00:00, 28.86it/s]\n",
            "Evaluating: 100%|██████████| 40/40 [00:00<00:00, 76.41it/s]\n"
          ]
        },
        {
          "output_type": "stream",
          "name": "stdout",
          "text": [
            "Train Loss: 0.6937 | Train Acc: 50.09%\n",
            "Val Loss: 0.6941 | Val Acc: 48.71%\n",
            "\n",
            "Epoch 5/10\n",
            "--------------------\n"
          ]
        },
        {
          "output_type": "stream",
          "name": "stderr",
          "text": [
            "Training: 100%|██████████| 352/352 [00:11<00:00, 29.68it/s]\n",
            "Evaluating: 100%|██████████| 40/40 [00:00<00:00, 74.81it/s]\n"
          ]
        },
        {
          "output_type": "stream",
          "name": "stdout",
          "text": [
            "Train Loss: 0.6934 | Train Acc: 50.39%\n",
            "Val Loss: 0.6941 | Val Acc: 48.71%\n",
            "\n",
            "Epoch 6/10\n",
            "--------------------\n"
          ]
        },
        {
          "output_type": "stream",
          "name": "stderr",
          "text": [
            "Training: 100%|██████████| 352/352 [00:12<00:00, 28.88it/s]\n",
            "Evaluating: 100%|██████████| 40/40 [00:00<00:00, 76.10it/s]\n"
          ]
        },
        {
          "output_type": "stream",
          "name": "stdout",
          "text": [
            "Train Loss: 0.6934 | Train Acc: 50.19%\n",
            "Val Loss: 0.6941 | Val Acc: 48.71%\n",
            "\n",
            "Epoch 7/10\n",
            "--------------------\n"
          ]
        },
        {
          "output_type": "stream",
          "name": "stderr",
          "text": [
            "Training: 100%|██████████| 352/352 [00:11<00:00, 29.60it/s]\n",
            "Evaluating: 100%|██████████| 40/40 [00:00<00:00, 76.84it/s]\n"
          ]
        },
        {
          "output_type": "stream",
          "name": "stdout",
          "text": [
            "Train Loss: 0.6935 | Train Acc: 50.29%\n",
            "Val Loss: 0.6941 | Val Acc: 48.71%\n",
            "\n",
            "Epoch 8/10\n",
            "--------------------\n"
          ]
        },
        {
          "output_type": "stream",
          "name": "stderr",
          "text": [
            "Training: 100%|██████████| 352/352 [00:13<00:00, 26.55it/s]\n",
            "Evaluating: 100%|██████████| 40/40 [00:00<00:00, 73.95it/s]\n"
          ]
        },
        {
          "output_type": "stream",
          "name": "stdout",
          "text": [
            "Train Loss: 0.6936 | Train Acc: 50.20%\n",
            "Val Loss: 0.6941 | Val Acc: 48.71%\n",
            "\n",
            "Epoch 9/10\n",
            "--------------------\n"
          ]
        },
        {
          "output_type": "stream",
          "name": "stderr",
          "text": [
            "Training: 100%|██████████| 352/352 [00:12<00:00, 28.68it/s]\n",
            "Evaluating: 100%|██████████| 40/40 [00:00<00:00, 76.50it/s]\n"
          ]
        },
        {
          "output_type": "stream",
          "name": "stdout",
          "text": [
            "Train Loss: 0.6936 | Train Acc: 49.83%\n",
            "Val Loss: 0.6941 | Val Acc: 48.71%\n",
            "\n",
            "Epoch 10/10\n",
            "--------------------\n"
          ]
        },
        {
          "output_type": "stream",
          "name": "stderr",
          "text": [
            "Training: 100%|██████████| 352/352 [00:12<00:00, 29.06it/s]\n",
            "Evaluating: 100%|██████████| 40/40 [00:00<00:00, 70.79it/s]"
          ]
        },
        {
          "output_type": "stream",
          "name": "stdout",
          "text": [
            "Train Loss: 0.6936 | Train Acc: 50.11%\n",
            "Val Loss: 0.6941 | Val Acc: 48.71%\n"
          ]
        },
        {
          "output_type": "stream",
          "name": "stderr",
          "text": [
            "\n"
          ]
        }
      ]
    },
    {
      "cell_type": "code",
      "source": [
        "plt.figure(figsize=(12, 5))\n",
        "\n",
        "# loss\n",
        "plt.subplot(1, 2, 1)\n",
        "plt.plot(train_losses, label='Train Loss')\n",
        "plt.plot(val_losses, label='Val Loss')\n",
        "plt.xlabel('Epoch')\n",
        "plt.ylabel('Loss')\n",
        "plt.title('Training and Validation Loss')\n",
        "plt.legend()\n",
        "plt.grid(True)\n",
        "\n",
        "# accuracy\n",
        "plt.subplot(1, 2, 2)\n",
        "plt.plot(train_accs, label='Train Acc')\n",
        "plt.plot(val_accs, label='Val Acc')\n",
        "plt.xlabel('Epoch')\n",
        "plt.ylabel('Accuracy')\n",
        "plt.title('Training and Validation Accuracy')\n",
        "plt.legend()\n",
        "plt.grid(True)\n",
        "\n",
        "plt.tight_layout()\n",
        "plt.show()\n"
      ],
      "metadata": {
        "colab": {
          "base_uri": "https://localhost:8080/",
          "height": 507
        },
        "id": "vWVOLk7kXf7r",
        "outputId": "3489bfe7-81c0-45cf-c539-5e2441a722f4"
      },
      "execution_count": 65,
      "outputs": [
        {
          "output_type": "display_data",
          "data": {
            "text/plain": [
              "<Figure size 1200x500 with 2 Axes>"
            ],
            "image/png": "[encoded data removed]"
          },
          "metadata": {}
        }
      ]
    },
    {
      "cell_type": "code",
      "source": [
        "test_loss, test_acc = evaluate(model, test_loader, criterion)\n",
        "print(f\"Test Loss: {test_loss:.4f} | Test Acc: {test_acc*100:.2f}%\")"
      ],
      "metadata": {
        "colab": {
          "base_uri": "https://localhost:8080/"
        },
        "id": "wYYTOjKpXo9j",
        "outputId": "0f4e41c3-5281-4094-9ee4-dfbe1e768116"
      },
      "execution_count": 66,
      "outputs": [
        {
          "output_type": "stream",
          "name": "stderr",
          "text": [
            "Evaluating: 100%|██████████| 391/391 [00:05<00:00, 75.45it/s]"
          ]
        },
        {
          "output_type": "stream",
          "name": "stdout",
          "text": [
            "Test Loss: 0.6934 | Test Acc: 50.05%\n"
          ]
        },
        {
          "output_type": "stream",
          "name": "stderr",
          "text": [
            "\n"
          ]
        }
      ]
    },
    {
      "cell_type": "code",
      "source": [
        "sample_reviews = [\n",
        "    \"This movie was absolutely amazing! The acting was superb and the plot was engaging.\",\n",
        "    \"I was thoroughly disappointed with this film. The story made no sense and the acting was terrible.\",\n",
        "    \"It was okay. Nothing special but not terrible either.\",\n",
        "    \"Despite some flaws in the plot, the movie had great visual effects and good performances.\"\n",
        "]\n",
        "\n",
        "print(\"Model predictions on sample reviews:\")\n",
        "for review in sample_reviews:\n",
        "    prob, sent = predict_sentiment(model, review, vocab)\n",
        "    print(f\"Review: {review[:50]}...\")\n",
        "    print(f\"Sentiment: {sent} (probability: {prob:.4f})\")\n",
        "    print(\"-\" * 50)"
      ],
      "metadata": {
        "colab": {
          "base_uri": "https://localhost:8080/"
        },
        "id": "_-wccpGjXqN1",
        "outputId": "3ee980e3-4cae-4889-8b45-058cd83a83d1"
      },
      "execution_count": 67,
      "outputs": [
        {
          "output_type": "stream",
          "name": "stdout",
          "text": [
            "Model predictions on sample reviews:\n",
            "Review: This movie was absolutely amazing! The acting was ...\n",
            "Sentiment: Positive (probability: 0.5147)\n",
            "--------------------------------------------------\n",
            "Review: I was thoroughly disappointed with this film. The ...\n",
            "Sentiment: Positive (probability: 0.5147)\n",
            "--------------------------------------------------\n",
            "Review: It was okay. Nothing special but not terrible eith...\n",
            "Sentiment: Positive (probability: 0.5147)\n",
            "--------------------------------------------------\n",
            "Review: Despite some flaws in the plot, the movie had grea...\n",
            "Sentiment: Positive (probability: 0.5147)\n",
            "--------------------------------------------------\n"
          ]
        }
      ]
    },
    {
      "cell_type": "markdown",
      "source": [
        "## Evaluation: Stacked LSTM vs. Stacked BiLSTM on the IMDB Dataset\n",
        "\n",
        "### Model Specifications\n",
        "\n",
        "| Parameter             | Stacked LSTM (Unidirectional) | Stacked BiLSTM               |\n",
        "| --------------------- | ----------------------------- | ---------------------------- |\n",
        "| Sequence Direction    | Unidirectional                | Bidirectional                |\n",
        "| Embedding Size        | 100                           | 100                          |\n",
        "| Hidden Layer Size     | 256                           | 256                          |\n",
        "| Number of LSTM Layers | 2                             | 2                            |\n",
        "| Dropout Rate          | 0.5                           | 0.5                          |\n",
        "| Output Size           | 1 (binary classification)     | 1 (binary classification)    |\n",
        "| Loss Function         | BCEWithLogitsLoss             | BCEWithLogitsLoss            |\n",
        "| Training Epochs       | 10                            | 10                           |\n",
        "| Optimizer             | Adam (learning rate = 0.001)  | Adam (learning rate = 0.001) |\n",
        "\n",
        "---\n",
        "\n",
        "### Performance Metrics (After 10 Epochs)\n",
        "\n",
        "| Metric              | Stacked LSTM (Uni) | Stacked BiLSTM |\n",
        "| ------------------- | ------------------ | -------------- |\n",
        "| Training Loss       | \\~0.694            | \\~0.4239       |\n",
        "| Validation Loss     | \\~0.693            | \\~0.4141       |\n",
        "| Training Accuracy   | \\~49.8%            | \\~81.44%       |\n",
        "| Validation Accuracy | \\~51.3%            | \\~82.19%       |\n",
        "\n",
        "---\n",
        "\n",
        "### Key Insights\n",
        "\n",
        "* The unidirectional LSTM did not capture meaningful features, performing close to random guessing.\n",
        "* In contrast, the bidirectional LSTM significantly outperformed it, surpassing 82% accuracy on both training and validation sets.\n",
        "* The improved results with the BiLSTM are likely due to its ability to leverage information from both preceding and succeeding tokens in the sequence.\n",
        "\n"
      ],
      "metadata": {
        "id": "2DV529iTX3Mt"
      }
    },
    {
      "cell_type": "code",
      "source": [],
      "metadata": {
        "id": "LIEaJKYeX51z"
      },
      "execution_count": null,
      "outputs": []
    }
  ]
}